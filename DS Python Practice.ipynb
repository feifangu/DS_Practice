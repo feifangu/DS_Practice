{
 "cells": [
  {
   "cell_type": "markdown",
   "id": "8ca730cb-e8d1-40e8-a6d6-cb7812a45da4",
   "metadata": {
    "tags": []
   },
   "source": [
    "# Algorithm"
   ]
  },
  {
   "cell_type": "code",
   "execution_count": 1,
   "id": "a2afb4b7",
   "metadata": {},
   "outputs": [],
   "source": [
    "import numpy as np\n",
    "import pandas as pd"
   ]
  },
  {
   "cell_type": "markdown",
   "id": "ae32e484",
   "metadata": {
    "tags": []
   },
   "source": [
    "## Q1 : compute deviation\n",
    "<br>Write a function compute_deviation that takes in a list of \n",
    "dictionaries with a key and list of integers and returns a \n",
    "dictionary with the standard deviation of each list.\n",
    "Note: This should be done without using the NumPy built-in \n",
    "functions."
   ]
  },
  {
   "cell_type": "code",
   "execution_count": 5,
   "id": "3f05706d",
   "metadata": {},
   "outputs": [],
   "source": [
    "input = [ { 'key': 'list1', 'values': [4,5,2,3,4,5,2,3], }, { 'key': 'list2', 'values': [1,1,34,12,40,3,9,7], } ]\n",
    "output = {'list1': 1.12, 'list2': 14.19}"
   ]
  },
  {
   "cell_type": "code",
   "execution_count": 6,
   "id": "90a36a59",
   "metadata": {},
   "outputs": [
    {
     "data": {
      "text/plain": [
       "{'list1': 1.12, 'list2': 14.19}"
      ]
     },
     "execution_count": 6,
     "metadata": {},
     "output_type": "execute_result"
    }
   ],
   "source": [
    "# Method without using numpy\n",
    "def compute_deviation(dic_list):\n",
    "    output={}\n",
    "    for l in dic_list:\n",
    "        output[l['key']] =round((sum([(x-sum(l['values'])/len(l['values']))**2 for x in l['values']])/len(l['values']))**0.5,2)\n",
    "    return output\n",
    "compute_deviation(input)"
   ]
  },
  {
   "cell_type": "code",
   "execution_count": 7,
   "id": "6bc73d66",
   "metadata": {},
   "outputs": [
    {
     "data": {
      "text/plain": [
       "{'list1': 1.12, 'list2': 14.19}"
      ]
     },
     "execution_count": 7,
     "metadata": {},
     "output_type": "execute_result"
    }
   ],
   "source": [
    "# Method using numpy\n",
    "def compute_deviation2(dic_list):\n",
    "    output = {}\n",
    "    for l in dic_list:\n",
    "        output[l['key']]=round(np.std(l['values']),2)\n",
    "    return output\n",
    "compute_deviation2(input)"
   ]
  },
  {
   "cell_type": "markdown",
   "id": "4fb578c4",
   "metadata": {},
   "source": [
    "## Q2 : find bigrams\n",
    "<br>Write a function called find_bigrams that takes a sentence or \n",
    "paragraph of strings and returns a list of all bigrams."
   ]
  },
  {
   "cell_type": "code",
   "execution_count": 8,
   "id": "6a9fa0d8",
   "metadata": {},
   "outputs": [],
   "source": [
    "sentence = \"\"\"\n",
    "Have free hours and love children? \n",
    "Drive kids to school, soccer practice \n",
    "and other activities.\n",
    "\"\"\"\n",
    "output = [('have', 'free'),\n",
    " ('free', 'hours'),\n",
    " ('hours', 'and'),\n",
    " ('and', 'love'),\n",
    " ('love', 'children?'),\n",
    " ('children?', 'drive'),\n",
    " ('drive', 'kids'),\n",
    " ('kids', 'to'),\n",
    " ('to', 'school,'),\n",
    " ('school,', 'soccer'),\n",
    " ('soccer', 'practice'),\n",
    " ('practice', 'and'),\n",
    " ('and', 'other'),\n",
    " ('other', 'activities.')]"
   ]
  },
  {
   "cell_type": "code",
   "execution_count": 10,
   "id": "05ddd7da",
   "metadata": {},
   "outputs": [
    {
     "data": {
      "text/plain": [
       "[('have', 'free'),\n",
       " ('free', 'hours'),\n",
       " ('hours', 'and'),\n",
       " ('and', 'love'),\n",
       " ('love', 'children?'),\n",
       " ('children?', 'drive'),\n",
       " ('drive', 'kids'),\n",
       " ('kids', 'to'),\n",
       " ('to', 'school,'),\n",
       " ('school,', 'soccer'),\n",
       " ('soccer', 'practice'),\n",
       " ('practice', 'and'),\n",
       " ('and', 'other'),\n",
       " ('other', 'activities.')]"
      ]
     },
     "execution_count": 10,
     "metadata": {},
     "output_type": "execute_result"
    }
   ],
   "source": [
    "def find_bigrams(words):\n",
    "    list1 = []\n",
    "    words_list = words.replace('\\n', '').lower().split(\" \")\n",
    "    for i in range(0,len(words_list)-1):\n",
    "      list1.append((words_list[i],words_list[i+1]))\n",
    "    return list1\n",
    "find_bigrams(sentence)"
   ]
  },
  {
   "cell_type": "markdown",
   "id": "a354cc3b",
   "metadata": {},
   "source": [
    "## Q3 : recurring character\n",
    "<br>Given a string, write a function recurring_char to find its first recurring \n",
    "character. Return None if there is no recurring character.\n",
    "Treat upper and lower case letters as distinct characters.\n",
    "You may assume the input string includes no spaces."
   ]
  },
  {
   "cell_type": "code",
   "execution_count": 12,
   "id": "2d23854e",
   "metadata": {},
   "outputs": [],
   "source": [
    "input1 = \"interviewquery\"\n",
    "output1 = \"i\"\n",
    "\n",
    "input2 = \"interv\"\n",
    "output2 =None"
   ]
  },
  {
   "cell_type": "code",
   "execution_count": 13,
   "id": "5c51c387",
   "metadata": {},
   "outputs": [
    {
     "name": "stdout",
     "output_type": "stream",
     "text": [
      "i None\n"
     ]
    }
   ],
   "source": [
    "def recurring_char(str_input):\n",
    "    for i in range(0,len(str_input)):\n",
    "        if str_input[i] in str_input[i+1:]:\n",
    "            return (str_input[i])\n",
    "    return None\n",
    "print(recurring_char(input1), recurring_char(input2))"
   ]
  },
  {
   "cell_type": "markdown",
   "id": "68592a7d",
   "metadata": {},
   "source": [
    "## Q4 : replace words with stems\n",
    "<br>In data science, there exists the concept of stemming, which is the \n",
    "heuristic of chopping off the end of a word to clean and bucket it into \n",
    "an easier feature set. \n",
    "Given a dictionary consisting of many roots and a sentence, write a \n",
    "function replace_words to stem all the words in the sentence with the \n",
    "root forming it. If a word has many roots that can form it, replace it \n",
    "with the root with the shortest length."
   ]
  },
  {
   "cell_type": "code",
   "execution_count": 14,
   "id": "f88105e5",
   "metadata": {},
   "outputs": [],
   "source": [
    "roots = [\"cat\", \"bat\", \"rat\"]\n",
    "sentence = \"the cattle was rattled by the battery\"\n",
    "output = \"the cat was rat by the bat\""
   ]
  },
  {
   "cell_type": "code",
   "execution_count": 15,
   "id": "472440b6",
   "metadata": {},
   "outputs": [
    {
     "data": {
      "text/plain": [
       "'the cat was rat by the bat'"
      ]
     },
     "execution_count": 15,
     "metadata": {},
     "output_type": "execute_result"
    }
   ],
   "source": [
    "def replace_words(roots,sentence):  \n",
    "    sorted_roots = sorted(roots, key=len)\n",
    "    output = []\n",
    "    words = sentence.split(' ')\n",
    "    for w in words:\n",
    "        output.append(w)\n",
    "        for r in sorted_roots:\n",
    "            if w.startswith(r):\n",
    "                output[-1]=r\n",
    "                break\n",
    "    return (' '.join(output))\n",
    "replace_words(roots,sentence)"
   ]
  },
  {
   "cell_type": "markdown",
   "id": "a116f6f4",
   "metadata": {},
   "source": [
    "## Q5 : minimum change\n",
    "<br>Write a function find_change to find the minimum number \n",
    "of coins that make up the given amount of change cents. \n",
    "Assume we only have coins of value 1, 5, 10, and 25 cents."
   ]
  },
  {
   "cell_type": "code",
   "execution_count": 20,
   "id": "6b4e5a76",
   "metadata": {},
   "outputs": [
    {
     "data": {
      "text/plain": [
       "7"
      ]
     },
     "execution_count": 20,
     "metadata": {},
     "output_type": "execute_result"
    }
   ],
   "source": [
    "def minimum_change(cents):\n",
    "    cnt_25 = cents//25\n",
    "    rest_25 = cents%25\n",
    "    cnt_10 = rest_25//10\n",
    "    rest_10 = rest_25%10\n",
    "    cnt_5 = rest_10//5\n",
    "    cnt_1 = rest_10%5\n",
    "    return (cnt_25+cnt_10+cnt_5+cnt_1)\n",
    "\n",
    "cents = 73\n",
    "minimum_change(cents)"
   ]
  },
  {
   "cell_type": "markdown",
   "id": "823f2b65",
   "metadata": {},
   "source": [
    "## Q6 : friendship timeline\n",
    "<br>There are two lists of dictionaries representing friendship beginnings \n",
    "and endings: friends_added and friends_removed. Each dictionary \n",
    "contains the user_ids and created_at time of the friendship beginning /\n",
    "ending.\n",
    "Write a function friendship_timeline to generate an output that lists the \n",
    "pairs of friends with their corresponding timestamps of the friendship \n",
    "beginning and then the timestamp of the friendship ending.\n",
    "Note: There can be multiple instances over time when two people \n",
    "became friends and unfriended; only output lists when a corresponding \n",
    "friendship was removed."
   ]
  },
  {
   "cell_type": "code",
   "execution_count": 37,
   "id": "404041a2",
   "metadata": {},
   "outputs": [],
   "source": [
    "friends_added = [\n",
    " {'user_ids': [1, 2], 'created_at': '2020-01-01'},\n",
    " {'user_ids': [3, 2], 'created_at': '2020-01-02'},\n",
    " {'user_ids': [4, 1], 'created_at': '2020-02-02'},\n",
    " {'user_ids': [2, 1], 'created_at': '2020-02-02'}]\n",
    "friends_removed = [\n",
    " {'user_ids': [1, 2], 'created_at': '2020-02-05'},\n",
    " {'user_ids': [2, 1], 'created_at': '2020-01-03'},\n",
    " {'user_ids': [2, 3], 'created_at': '2020-01-05'}]"
   ]
  },
  {
   "cell_type": "code",
   "execution_count": 36,
   "id": "8e3072fc",
   "metadata": {},
   "outputs": [
    {
     "data": {
      "text/plain": [
       "[{'user_ids': [1, 2], 'start_date': '2020-01-01', 'end_date': '2020-01-03'},\n",
       " {'user_ids': [1, 2], 'start_date': '2020-02-02', 'end_date': '2020-02-05'},\n",
       " {'user_ids': [2, 3], 'start_date': '2020-01-02', 'end_date': '2020-01-05'}]"
      ]
     },
     "execution_count": 36,
     "metadata": {},
     "output_type": "execute_result"
    }
   ],
   "source": [
    "def friendship_timeline(friends_added, friends_removed):\n",
    "    friends_added_sorted = sorted(friends_added, key = lambda x: x['created_at'])\n",
    "    friends_removed_sorted = sorted(friends_removed, key = lambda x: x['created_at'])\n",
    "    friendships = []\n",
    "    for rem in friends_removed_sorted:\n",
    "        for add in friends_added_sorted:\n",
    "            if sorted(rem['user_ids']) == sorted(add['user_ids']):\n",
    "                friendships.append(\n",
    "                {\n",
    "                    'user_ids':sorted(rem['user_ids']),\n",
    "                    'start_date':add['created_at'],\n",
    "                    'end_date':rem['created_at'],\n",
    "                }\n",
    "                )\n",
    "                friends_added_sorted.remove(add)\n",
    "                break\n",
    "    return (sorted(friendships, key = lambda x : x['user_ids']))\n",
    "\n",
    "friendship_timeline(friends_added, friends_removed)"
   ]
  },
  {
   "cell_type": "markdown",
   "id": "f2b5c1dc",
   "metadata": {},
   "source": [
    "## Q7 : compute variance\n",
    "<br>Write a function that outputs the (sample) variance given a \n",
    "list of integers.\n",
    "Note: round the result to 2 decimal places."
   ]
  },
  {
   "cell_type": "code",
   "execution_count": 40,
   "id": "8241c9f8",
   "metadata": {},
   "outputs": [],
   "source": [
    "test_list = [6, 7, 3, 9, 10, 15]"
   ]
  },
  {
   "cell_type": "code",
   "execution_count": 46,
   "id": "4267368d",
   "metadata": {},
   "outputs": [
    {
     "data": {
      "text/plain": [
       "13.89"
      ]
     },
     "execution_count": 46,
     "metadata": {},
     "output_type": "execute_result"
    }
   ],
   "source": [
    "def get_variance(test_list):\n",
    "    return (round((sum([(x-sum(test_list)/len(test_list))**2 for x in test_list])/len(test_list)),2))\n",
    "\n",
    "get_variance(test_list)"
   ]
  },
  {
   "cell_type": "markdown",
   "id": "fac9e204",
   "metadata": {},
   "source": [
    "## Q8 : multi model sample\n",
    "<br>Write a function for sampling from a multimodal distribution. \n",
    "Inputs are keys (i.e. green, red, blue), weights (i.e. 2, 3, 5.5), and the number of samples drawn from the distribution. The output should return the keys of the samples. "
   ]
  },
  {
   "cell_type": "code",
   "execution_count": 52,
   "id": "f5fcde85",
   "metadata": {},
   "outputs": [
    {
     "data": {
      "text/plain": [
       "['green', 'blue', 'red', 'blue', 'red']"
      ]
     },
     "execution_count": 52,
     "metadata": {},
     "output_type": "execute_result"
    }
   ],
   "source": [
    "keys = ['green', 'red', 'blue']\n",
    "weights = [1, 10, 2]\n",
    "n = 5\n",
    "\n",
    "from random import random\n",
    "\n",
    "def sample_multimodal(keys, weights, n):\n",
    "\n",
    "    '''\n",
    "    Take a random sample, compare to cdf and append \\\n",
    "the corresponding key to the output list.\n",
    "    '''\n",
    "    out = []\n",
    "    cdf = 0\n",
    "    for i in range(n):\n",
    "        rand_samp = random()\n",
    "        for j in range(len(weights)):\n",
    "            cdf += (weights[j]/sum(weights))\n",
    "            if rand_samp <= cdf :\n",
    "                out.append(keys[j])\n",
    "                break\n",
    "        cdf=0\n",
    "    return out\n",
    "\n",
    "sample_multimodal(keys, weights, n)"
   ]
  },
  {
   "cell_type": "markdown",
   "id": "25c536f3",
   "metadata": {},
   "source": [
    "## Q9 : prime to N\n",
    "<br>Given an integer N, write a Python function that returns all of \n",
    "the prime numbers up to N"
   ]
  },
  {
   "cell_type": "code",
   "execution_count": 97,
   "id": "cf514158",
   "metadata": {},
   "outputs": [
    {
     "data": {
      "text/plain": [
       "[2, 3, 5, 7, 11, 13, 17, 19, 23]"
      ]
     },
     "execution_count": 97,
     "metadata": {},
     "output_type": "execute_result"
    }
   ],
   "source": [
    "def prime_to_N(N):\n",
    "    output = [2]\n",
    "    for i in range(3,N,2):\n",
    "        output.append(i)\n",
    "        for j in range(3,math.ceil(math.sqrt(i))+1,2):\n",
    "            if (i!=j) and (i%j) == 0:\n",
    "                output.remove(i)\n",
    "                break\n",
    "    return output\n",
    "                \n",
    "        \n",
    "prime_to_N(25)        "
   ]
  },
  {
   "cell_type": "markdown",
   "id": "05eaf077",
   "metadata": {},
   "source": [
    "## Q10 : matrix analysis\n",
    "<br>Let’s say we have a five-by-five matrix num_employees where each \n",
    "row is a company and each column represents a department. Each \n",
    "cell of the matrix displays the number of employees working in that \n",
    "particular department at each company.\n",
    "Write a function find_percentages to return a five by five matrix that \n",
    "contains the portion of employees employed in each department \n",
    "compared to the total number of employees at each company."
   ]
  },
  {
   "cell_type": "code",
   "execution_count": 98,
   "id": "f9c5ef84",
   "metadata": {},
   "outputs": [],
   "source": [
    "import numpy as np\n",
    "#Input:\n",
    "num_employees = np.array( [[10, 20, 30, 30, 10], [15, 15, 5, 10, 5], \n",
    "[150, 50, 100, 150, 50], [300, 200, 300, 100, 100], [1, 5, 1, 1, 2]] )"
   ]
  },
  {
   "cell_type": "code",
   "execution_count": 114,
   "id": "1487d7ae",
   "metadata": {},
   "outputs": [
    {
     "data": {
      "text/plain": [
       "array([[0.1, 0.2, 0.3, 0.3, 0.1],\n",
       "       [0.3, 0.3, 0.1, 0.2, 0.1],\n",
       "       [0.3, 0.1, 0.2, 0.3, 0.1],\n",
       "       [0.3, 0.2, 0.3, 0.1, 0.1],\n",
       "       [0.1, 0.5, 0.1, 0.1, 0.2]])"
      ]
     },
     "execution_count": 114,
     "metadata": {},
     "output_type": "execute_result"
    }
   ],
   "source": [
    "def find_percentages(num_employees):\n",
    "    # using broadcasting when calculating on arrays\n",
    "    return num_employees/num_employees.sum(1).reshape((5, 1))\n",
    "\n",
    "find_percentages(num_employees)"
   ]
  },
  {
   "cell_type": "markdown",
   "id": "6d191fd5",
   "metadata": {},
   "source": [
    "## Q11 : one element removed\n",
    "<br>There are two lists, list X and list Y. Both lists contain integers \n",
    "from -1000 to 1000 and are identical to each other except that \n",
    "one integer is removed in list Y that exists in list X.\n",
    "Write a function one_element_removed that takes in both lists \n",
    "and returns the integer that was removed in O(1) space \n",
    "and O(n) time without using the python set function."
   ]
  },
  {
   "cell_type": "code",
   "execution_count": 116,
   "id": "756008f6",
   "metadata": {},
   "outputs": [],
   "source": [
    "list_x = [1,2,3,4,5]\n",
    "list_y = [1,2,4,5]\n"
   ]
  },
  {
   "cell_type": "code",
   "execution_count": 119,
   "id": "b72b5382",
   "metadata": {},
   "outputs": [
    {
     "data": {
      "text/plain": [
       "3"
      ]
     },
     "execution_count": 119,
     "metadata": {},
     "output_type": "execute_result"
    }
   ],
   "source": [
    "def one_element_removed(list_x, list_y):\n",
    "    for i in list_x:\n",
    "        if i not in list_y:\n",
    "            return i\n",
    "            break\n",
    "\n",
    "one_element_removed(list_x, list_y)"
   ]
  },
  {
   "cell_type": "code",
   "execution_count": 120,
   "id": "ac30505e",
   "metadata": {},
   "outputs": [
    {
     "data": {
      "text/plain": [
       "3"
      ]
     },
     "execution_count": 120,
     "metadata": {},
     "output_type": "execute_result"
    }
   ],
   "source": [
    "def missing_element(listX, listY):   \n",
    " \n",
    "    sumX = 0\n",
    "    iterX = iter(listX)\n",
    "    for i in range(len(listX)):\n",
    "        sumX += next(iterX)\n",
    "        \n",
    "    sumY = 0\n",
    "    iterY = iter(listY)\n",
    "    for i in range(len(listY)):\n",
    "        sumY += next(iterY)\n",
    "        \n",
    "    return sumX - sumY\n",
    "\n",
    "missing_element(list_x, list_y)"
   ]
  },
  {
   "cell_type": "markdown",
   "id": "a7743a1f",
   "metadata": {},
   "source": [
    "## Q12 : truncated distribution\n",
    "<br>Given a percentile_threshold, sample size N, and mean and standard \n",
    "deviation m and sd of the normal distribution, write a function \n",
    "truncated_dist to simulate a normal distribution truncated at percentile_\n",
    "threshold."
   ]
  },
  {
   "cell_type": "code",
   "execution_count": 121,
   "id": "ba67bdbd",
   "metadata": {},
   "outputs": [],
   "source": [
    "m = 2\n",
    "sd = 1\n",
    "n = 6\n",
    "percentile_threshold = 0.75"
   ]
  },
  {
   "cell_type": "code",
   "execution_count": 127,
   "id": "fee1c575",
   "metadata": {},
   "outputs": [
    {
     "data": {
      "text/plain": [
       "[2.0, 1.7, 1.7, 1.0, 0.8, 2.2]"
      ]
     },
     "execution_count": 127,
     "metadata": {},
     "output_type": "execute_result"
    }
   ],
   "source": [
    "from scipy.stats import norm\n",
    "\n",
    "def truncated_dist(m, sd, n, percentile_threshold):\n",
    "    threshold_value = norm.ppf(percentile_threshold, loc=m, scale=sd)\n",
    "    result = []\n",
    "    while len(result) < n:\n",
    "        val = norm.rvs(loc=m, scale=sd, size=1)\n",
    "        if val < threshold_value:\n",
    "            result.append(round(val[0],1))\n",
    "    return result\n",
    "\n",
    "truncated_dist(m, sd, n, percentile_threshold)"
   ]
  },
  {
   "cell_type": "markdown",
   "id": "deeab0f1-be15-4415-8abc-3e8b5e8c6b5d",
   "metadata": {},
   "source": [
    "## Q13 : gaussian generation\n",
    "<br>Given two parameters, a size n, a mean mu and sigma sigma \n",
    "write a function to generate a gaussian distribution."
   ]
  },
  {
   "cell_type": "code",
   "execution_count": 18,
   "id": "c7ca693a-5757-4be1-804f-b5a2202b9ade",
   "metadata": {},
   "outputs": [
    {
     "data": {
      "text/plain": [
       "[1, 2, 2, 2, 3, 3, 3, 3, 4]"
      ]
     },
     "execution_count": 18,
     "metadata": {},
     "output_type": "execute_result"
    }
   ],
   "source": [
    "from scipy.stats import norm\n",
    "\n",
    "def generate_gaussian(n, mu, sigma):\n",
    "    r= norm.rvs(size= n, loc= mu, scale= sigma)\n",
    "    # if using numpy, np.random.normal(mu, sigma, n)\n",
    "    return sorted(r.round().astype(int))\n",
    "\n",
    "generate_gaussian(9, 3, 1)"
   ]
  },
  {
   "cell_type": "code",
   "execution_count": null,
   "id": "02528f79-b792-4e76-9c1b-1df03c5d5683",
   "metadata": {},
   "outputs": [],
   "source": []
  },
  {
   "cell_type": "markdown",
   "id": "fe6fcddb-b45a-4107-9e68-f337a546a8e6",
   "metadata": {},
   "source": [
    "## Q14 : term frequency\n",
    "<br>Say you are given a text document in the form of a string \n",
    "with the following sentences:\n",
    "document = \"I have a nice car with a nice tire\".\n",
    "Write a program in python to determine the TF \n",
    "(term_frequency) values for each term of this \n",
    "document.\n",
    "Note: Round the term frequency to 2 decimal \n",
    "points"
   ]
  },
  {
   "cell_type": "code",
   "execution_count": 29,
   "id": "c5115d04-e5ee-4c6f-a34c-4fc13406191f",
   "metadata": {},
   "outputs": [
    {
     "data": {
      "text/plain": [
       "{'I': 0.11,\n",
       " 'have': 0.11,\n",
       " 'a': 0.22,\n",
       " 'nice': 0.22,\n",
       " 'car': 0.11,\n",
       " 'with': 0.11,\n",
       " 'tire': 0.11}"
      ]
     },
     "execution_count": 29,
     "metadata": {},
     "output_type": "execute_result"
    }
   ],
   "source": [
    "def tf(sentence):\n",
    "    words = sentence.split(' ')\n",
    "    output = {}\n",
    "    for w in words:\n",
    "        if w in output.keys():\n",
    "            output[w]+=1/len(words)\n",
    "        else:\n",
    "            output[w]=1/len(words)\n",
    "    output = {key : round(output[key], 2) for key in output}\n",
    "    return output\n",
    "\n",
    "document = \"I have a nice car with a nice tire\"\n",
    "tf(document)"
   ]
  },
  {
   "cell_type": "markdown",
   "id": "c417b901-ef5f-4a5b-9c30-4969046ff888",
   "metadata": {
    "tags": []
   },
   "source": [
    "## Q15 : greater release dates\n",
    "<br>Given two lists of release dates, return the list with more \n",
    "dates past a certain input variable date D.\n",
    "Note: Both lists could be of unequal length and in any order."
   ]
  },
  {
   "cell_type": "code",
   "execution_count": 33,
   "id": "832652b8-e9ab-420c-afe1-a2b62817db20",
   "metadata": {},
   "outputs": [],
   "source": [
    "D = \"2020-03-01\"\n",
    "L1 = [\n",
    " \"2020-01-21\", \n",
    " \"2020-01-09\",\n",
    " \"2020-01-10\",\n",
    " \"2020-02-14\",\n",
    " \"2020-03-01\"\n",
    "]\n",
    "L2 = [\n",
    " \"2020-01-20\", \n",
    " \"2020-04-02\",\n",
    " \"2020-02-08\",\n",
    " \"2020-03-01\"\n",
    "]"
   ]
  },
  {
   "cell_type": "code",
   "execution_count": 38,
   "id": "9d92e977-6cee-440a-9cef-f131b603b09b",
   "metadata": {},
   "outputs": [],
   "source": [
    "def greater_release_dates(L1, L2, D):\n",
    "    if sum([i > D for i in L1]) > sum([i > D for i in L2]):\n",
    "        return \"L1\"\n",
    "    elif sum([i > D for i in L1]) < sum([i > D for i in L2]):\n",
    "        return \"L2\"\n",
    "    else: \n",
    "        return \"L1 or L2\""
   ]
  },
  {
   "cell_type": "code",
   "execution_count": 39,
   "id": "f47e469c-9fb4-414d-945d-ee166175c326",
   "metadata": {},
   "outputs": [
    {
     "data": {
      "text/plain": [
       "'L2'"
      ]
     },
     "execution_count": 39,
     "metadata": {},
     "output_type": "execute_result"
    }
   ],
   "source": [
    "greater_release_dates(L1, L2, D)"
   ]
  },
  {
   "cell_type": "markdown",
   "id": "eb6a0d38-8bd4-4778-9cf1-6eb30a1181e4",
   "metadata": {},
   "source": [
    "## Q16 : find mismatched words\n",
    "<br>You are given two sentences as strings. Create a function that \n",
    "returns a list of all words that are not in both sentences.\n",
    "You can assume that the sentences have no punctuation \n",
    "marks, extra tabs, or spaces.\n",
    "Note: The strings \"Game\" and \"game\" should be considered \n",
    "the same word. Because of this, make sure all the strings in \n",
    "the list you output are in lowercase."
   ]
  },
  {
   "cell_type": "code",
   "execution_count": 41,
   "id": "cfc62fd2-bcb8-4564-b254-7ae81e697c21",
   "metadata": {},
   "outputs": [],
   "source": [
    "string1 = \"I want to eat fish today with my friends\"\n",
    "string2 = \"All I want is to eat fish today with my friends\"\n"
   ]
  },
  {
   "cell_type": "code",
   "execution_count": 64,
   "id": "f39292b3-498b-42b1-8483-efe91dcbb427",
   "metadata": {},
   "outputs": [
    {
     "data": {
      "text/plain": [
       "{'all', 'is'}"
      ]
     },
     "execution_count": 64,
     "metadata": {},
     "output_type": "execute_result"
    }
   ],
   "source": [
    "set(string2.lower().split(' ')) ^ set(string1.lower().split(' '))\n",
    "#(set(string2.lower().split(' ')) - set(string1.lower().split(' '))) | (set(string1.lower().split(' ')) - set(string2.lower().split(' ')))"
   ]
  },
  {
   "cell_type": "markdown",
   "id": "69a8a049-cdd8-44b7-aac6-97de7f93edde",
   "metadata": {},
   "source": [
    "## Q17 : fill none value\n",
    "<br>Given a sorted list of positive integers with some entries being \n",
    "None, create a function to return a new list where all None \n",
    "values are replaced with the most recent non-None value in \n",
    "the list.\n",
    "Note: If the first entry in the list is None, assume the previous \n",
    "entry was 0."
   ]
  },
  {
   "cell_type": "code",
   "execution_count": 93,
   "id": "bdd9fd3a-b388-4390-a176-bfd1f2aff8a2",
   "metadata": {},
   "outputs": [],
   "source": [
    "input_list = [None,2,None,None,4,5,None]"
   ]
  },
  {
   "cell_type": "code",
   "execution_count": 91,
   "id": "abcef2c9-51c6-4589-8183-d09993d7a9f5",
   "metadata": {},
   "outputs": [],
   "source": [
    "def fill_none(input_list):\n",
    "    output_list = []\n",
    "    if input_list[0] is None:\n",
    "        output_list.append(0)\n",
    "    else:\n",
    "        output_list.append(input_list[0])\n",
    "    for i in range(1,len(input_list)):\n",
    "        if input_list[i] is not None:\n",
    "            output_list.append(input_list[i])\n",
    "        else:\n",
    "            output_list.append(output_list[i-1])\n",
    "    return output_list"
   ]
  },
  {
   "cell_type": "code",
   "execution_count": 94,
   "id": "6cce9c91-1307-4bda-ad96-186cdd6313cf",
   "metadata": {},
   "outputs": [
    {
     "data": {
      "text/plain": [
       "[0, 2, 2, 2, 4, 5, 5]"
      ]
     },
     "execution_count": 94,
     "metadata": {},
     "output_type": "execute_result"
    }
   ],
   "source": [
    "fill_none(input_list)"
   ]
  },
  {
   "cell_type": "markdown",
   "id": "1fdd3870-7dd2-4c8a-a8da-baa38920785d",
   "metadata": {
    "tags": []
   },
   "source": [
    "## Q18 : precision recall\n",
    "<br>Given a 2-D matrix P of predicted values and actual values, \n",
    "write a function precision_recall to calculate precision and \n",
    "recall metrics.\n",
    "Return the ordered pair (precision, recall)."
   ]
  },
  {
   "cell_type": "code",
   "execution_count": 146,
   "id": "4e555016-a196-451d-be2e-f2725a526d99",
   "metadata": {},
   "outputs": [],
   "source": [
    " P = [[121, 9],\n",
    " [17, 144]]"
   ]
  },
  {
   "cell_type": "code",
   "execution_count": 150,
   "id": "c22ce858-daa3-4205-97c9-37d6db912a85",
   "metadata": {},
   "outputs": [
    {
     "data": {
      "text/plain": [
       "(0.877, 0.931)"
      ]
     },
     "execution_count": 150,
     "metadata": {},
     "output_type": "execute_result"
    }
   ],
   "source": [
    "def precision_recall(P):\n",
    "    return (round(P[0][0]/(P[0][0]+P[1][0]),3),round(P[0][0]/(P[0][0]+P[0][1]),3))\n",
    "precision_recall(P)"
   ]
  },
  {
   "cell_type": "markdown",
   "id": "8422e3fb-f8e4-4d33-93bc-0582324f1a7a",
   "metadata": {
    "tags": []
   },
   "source": [
    "## Q19 : density to cumulative\n",
    "<br>Given a list pdf write a function to_cdf(pdf) to caluculate the \n",
    "cdf."
   ]
  },
  {
   "cell_type": "code",
   "execution_count": 205,
   "id": "7ab73bff-cfbd-4104-bc35-f83eaff90f2b",
   "metadata": {
    "tags": []
   },
   "outputs": [
    {
     "data": {
      "text/plain": [
       "[1.2, 4.6, 9.9]"
      ]
     },
     "execution_count": 205,
     "metadata": {},
     "output_type": "execute_result"
    }
   ],
   "source": [
    "pdf = [1.2, 3.4, 5.3]\n",
    "\n",
    "def to_cdf(pdf):\n",
    "    output = []\n",
    "    a = 0\n",
    "    for i in range(len(pdf)):\n",
    "        a+=pdf[i]\n",
    "        output.append(round(a,3))\n",
    "    return output\n",
    "    #return np.cumsum(pdf)\n",
    "\n",
    "to_cdf(pdf)"
   ]
  },
  {
   "cell_type": "markdown",
   "id": "5dab0766-f062-412e-8cfe-a34537961baa",
   "metadata": {
    "tags": []
   },
   "source": [
    "## Q20 : split data without pandas\n",
    "<br>You are given a string that resembles the declaration of a list of \n",
    "dictionaries. Without using pandas, write a function read_split_from_str \n",
    "that:\n",
    "1.Reads the data and encodes it as a list of dictionaries\n",
    "2.Split the data into two lists, one for training and one for testing, with \n",
    "a 70:30 split between the training set and the testing set. Use numpy \n",
    "for random number generation if you need. Return a list of [training_\n",
    "set,testing_set]"
   ]
  },
  {
   "cell_type": "code",
   "execution_count": 164,
   "id": "2c2c24e0-4450-49cd-9bbf-21b35106d3a7",
   "metadata": {},
   "outputs": [],
   "source": [
    "list_of_dict_string = \"[{'x': 0.0, 'y': 5.43}, {'x': 50.0, 'y': 102.78}, {'x': 100.0, 'y': 204.24}]\""
   ]
  },
  {
   "cell_type": "code",
   "execution_count": 191,
   "id": "b833d25c-3c16-4544-985f-af294684270a",
   "metadata": {},
   "outputs": [
    {
     "data": {
      "text/plain": [
       "[[{'x': 50.0, 'y': 102.78}, {'x': 0.0, 'y': 5.43}],\n",
       " [{'x': 100.0, 'y': 204.24}]]"
      ]
     },
     "execution_count": 191,
     "metadata": {},
     "output_type": "execute_result"
    }
   ],
   "source": [
    "import numpy as np\n",
    "def read_split_from_str(list_of_dict_string):\n",
    "    list1 = eval(list_of_dict_string)\n",
    "    np.random.shuffle(list1)\n",
    "    output1 = list1[0:round(0.7*len(list1))]\n",
    "    output2 = list1[round(0.7*len(list1)):]\n",
    "    return ([output1, output2])\n",
    "\n",
    "read_split_from_str(list_of_dict_string)"
   ]
  },
  {
   "cell_type": "markdown",
   "id": "889bd702-5108-4f61-94c2-2a24c1356f67",
   "metadata": {
    "tags": []
   },
   "source": [
    "## Q21 : word frequency\n",
    "<br>You’re hired by a literary newspaper for an unusual project. They want \n",
    "you to use your data science skills to parse the most frequent words \n",
    "used in poems.\n",
    "Poems are given as a list of strings called sentences. Return a \n",
    "dictionary of the frequency that words are used in the poem.\n",
    "Your keys should be a number representing the number of times the \n",
    "word is used in the poem, with its value being a list of words with that \n",
    "frequency.\n",
    "Make sure to process all words as entirely lowercase. Additionally, do \n",
    "not worry about parsing punctuation marks."
   ]
  },
  {
   "cell_type": "code",
   "execution_count": 193,
   "id": "606e01c7-9886-4789-bdd3-b5feb9b93f4a",
   "metadata": {},
   "outputs": [],
   "source": [
    "sentences = [\n",
    " \"I love roses\",\n",
    " \"Roses are the best\",\n",
    " \"Roses are red violets are blue\"\n",
    "]"
   ]
  },
  {
   "cell_type": "code",
   "execution_count": 241,
   "id": "f53dd95d-25c0-4680-9b35-cee114af614d",
   "metadata": {},
   "outputs": [],
   "source": [
    "def word_frequency(sentences):\n",
    "    list1 = [i.lower().split(' ') for i in sentences]\n",
    "    list2 = [j for sub in list1 for j in sub]\n",
    "    dict1 = {}\n",
    "    dict2 = {}\n",
    "    for i in list2:\n",
    "        if i in dict1.keys():\n",
    "            dict1[i] +=1\n",
    "        else:\n",
    "            dict1[i] = 1\n",
    "    for v in dict1.values():\n",
    "        dict2[v] = list()\n",
    "    for j in dict1.keys():\n",
    "        if dict1[j] in dict2.keys():\n",
    "            dict2[dict1[j]].append(j)\n",
    "        else:\n",
    "            dict2[dict1[j]]=j\n",
    "    return dict2"
   ]
  },
  {
   "cell_type": "code",
   "execution_count": 242,
   "id": "1ca88378-943d-4c5b-a5d2-3e5815ca2062",
   "metadata": {},
   "outputs": [
    {
     "data": {
      "text/plain": [
       "{1: ['i', 'love', 'the', 'best', 'red', 'violets', 'blue'],\n",
       " 3: ['roses', 'are']}"
      ]
     },
     "execution_count": 242,
     "metadata": {},
     "output_type": "execute_result"
    }
   ],
   "source": [
    "word_frequency(sentences)"
   ]
  },
  {
   "cell_type": "markdown",
   "id": "eb5e4fe2-0b1e-4047-acf0-4545b1501407",
   "metadata": {
    "tags": []
   },
   "source": [
    "## Q22 : automatic histogram\n",
    "<br>Given a list of integers called dataset, write a function called \n",
    "automatic_histogram to automatically generate a dictionary \n",
    "representing a histogram of the data set with x bins uniformly \n",
    "distributed over the values.\n",
    "Note: You should not include any bins that have zero values in them in \n",
    "your dictionary.\n",
    "Note: Do NOT use numpy or pandas."
   ]
  },
  {
   "cell_type": "code",
   "execution_count": 264,
   "id": "5f0143c6-0759-40d8-acbb-7f240fa118d8",
   "metadata": {
    "tags": []
   },
   "outputs": [],
   "source": [
    "x = 4\n",
    "dataset = [1,2,2,3,4,5]"
   ]
  },
  {
   "cell_type": "code",
   "execution_count": 265,
   "id": "cfd395fe-9392-4f34-9c78-b48b4496dfcf",
   "metadata": {},
   "outputs": [
    {
     "data": {
      "text/plain": [
       "{'1-2': 3, '3-4': 2, '5': 1}"
      ]
     },
     "execution_count": 265,
     "metadata": {},
     "output_type": "execute_result"
    }
   ],
   "source": []
  },
  {
   "cell_type": "markdown",
   "id": "2903acc4-e18f-4c24-b696-7094be39f73d",
   "metadata": {},
   "source": [
    "# Numpy and Pandas"
   ]
  },
  {
   "cell_type": "markdown",
   "id": "7ad769e3-93f3-4045-9b40-dce82565e705",
   "metadata": {},
   "source": [
    "## Q0: Rewrite SQL Queries in Pandas"
   ]
  },
  {
   "cell_type": "code",
   "execution_count": 210,
   "id": "a3018419-68a6-4e2b-937b-6977430e025b",
   "metadata": {},
   "outputs": [],
   "source": [
    "import pandas as pd\n",
    "import numpy as np\n",
    "airports = pd.read_csv('airports.csv')\n",
    "airport_freq = pd.read_csv('airport-frequencies.csv')\n",
    "runways = pd.read_csv('runways.csv')"
   ]
  },
  {
   "cell_type": "code",
   "execution_count": 213,
   "id": "3b670594-ee0d-4284-aefb-e753ab359c70",
   "metadata": {},
   "outputs": [
    {
     "name": "stdout",
     "output_type": "stream",
     "text": [
      "<class 'pandas.core.frame.DataFrame'>\n",
      "RangeIndex: 73081 entries, 0 to 73080\n",
      "Data columns (total 18 columns):\n",
      " #   Column             Non-Null Count  Dtype  \n",
      "---  ------             --------------  -----  \n",
      " 0   id                 73081 non-null  int64  \n",
      " 1   ident              73081 non-null  object \n",
      " 2   type               73081 non-null  object \n",
      " 3   name               73081 non-null  object \n",
      " 4   latitude_deg       73081 non-null  float64\n",
      " 5   longitude_deg      73081 non-null  float64\n",
      " 6   elevation_ft       59116 non-null  float64\n",
      " 7   continent          37737 non-null  object \n",
      " 8   iso_country        72822 non-null  object \n",
      " 9   iso_region         73081 non-null  object \n",
      " 10  municipality       67948 non-null  object \n",
      " 11  scheduled_service  73081 non-null  object \n",
      " 12  gps_code           42818 non-null  object \n",
      " 13  iata_code          9205 non-null   object \n",
      " 14  local_code         32793 non-null  object \n",
      " 15  home_link          3461 non-null   object \n",
      " 16  wikipedia_link     10634 non-null  object \n",
      " 17  keywords           13671 non-null  object \n",
      "dtypes: float64(3), int64(1), object(14)\n",
      "memory usage: 10.0+ MB\n"
     ]
    }
   ],
   "source": [
    "airports.info()"
   ]
  },
  {
   "cell_type": "code",
   "execution_count": 215,
   "id": "995960f1-fbe4-40c6-8235-b754546ee140",
   "metadata": {},
   "outputs": [
    {
     "data": {
      "text/plain": [
       "(73081, 18)"
      ]
     },
     "execution_count": 215,
     "metadata": {},
     "output_type": "execute_result"
    }
   ],
   "source": [
    "airports.shape"
   ]
  },
  {
   "cell_type": "code",
   "execution_count": 229,
   "id": "fd6db726-c11f-4b63-9b13-0d6bc1e20261",
   "metadata": {},
   "outputs": [
    {
     "data": {
      "text/html": [
       "<div>\n",
       "<style scoped>\n",
       "    .dataframe tbody tr th:only-of-type {\n",
       "        vertical-align: middle;\n",
       "    }\n",
       "\n",
       "    .dataframe tbody tr th {\n",
       "        vertical-align: top;\n",
       "    }\n",
       "\n",
       "    .dataframe thead th {\n",
       "        text-align: right;\n",
       "    }\n",
       "</style>\n",
       "<table border=\"1\" class=\"dataframe\">\n",
       "  <thead>\n",
       "    <tr style=\"text-align: right;\">\n",
       "      <th></th>\n",
       "      <th>field</th>\n",
       "      <th>null count</th>\n",
       "    </tr>\n",
       "  </thead>\n",
       "  <tbody>\n",
       "    <tr>\n",
       "      <th>0</th>\n",
       "      <td>id</td>\n",
       "      <td>0</td>\n",
       "    </tr>\n",
       "    <tr>\n",
       "      <th>1</th>\n",
       "      <td>ident</td>\n",
       "      <td>0</td>\n",
       "    </tr>\n",
       "    <tr>\n",
       "      <th>2</th>\n",
       "      <td>type</td>\n",
       "      <td>0</td>\n",
       "    </tr>\n",
       "    <tr>\n",
       "      <th>3</th>\n",
       "      <td>name</td>\n",
       "      <td>0</td>\n",
       "    </tr>\n",
       "    <tr>\n",
       "      <th>4</th>\n",
       "      <td>latitude_deg</td>\n",
       "      <td>0</td>\n",
       "    </tr>\n",
       "    <tr>\n",
       "      <th>5</th>\n",
       "      <td>longitude_deg</td>\n",
       "      <td>0</td>\n",
       "    </tr>\n",
       "    <tr>\n",
       "      <th>6</th>\n",
       "      <td>elevation_ft</td>\n",
       "      <td>13965</td>\n",
       "    </tr>\n",
       "    <tr>\n",
       "      <th>7</th>\n",
       "      <td>continent</td>\n",
       "      <td>35344</td>\n",
       "    </tr>\n",
       "    <tr>\n",
       "      <th>8</th>\n",
       "      <td>iso_country</td>\n",
       "      <td>259</td>\n",
       "    </tr>\n",
       "    <tr>\n",
       "      <th>9</th>\n",
       "      <td>iso_region</td>\n",
       "      <td>0</td>\n",
       "    </tr>\n",
       "    <tr>\n",
       "      <th>10</th>\n",
       "      <td>municipality</td>\n",
       "      <td>5133</td>\n",
       "    </tr>\n",
       "    <tr>\n",
       "      <th>11</th>\n",
       "      <td>scheduled_service</td>\n",
       "      <td>0</td>\n",
       "    </tr>\n",
       "    <tr>\n",
       "      <th>12</th>\n",
       "      <td>gps_code</td>\n",
       "      <td>30263</td>\n",
       "    </tr>\n",
       "    <tr>\n",
       "      <th>13</th>\n",
       "      <td>iata_code</td>\n",
       "      <td>63876</td>\n",
       "    </tr>\n",
       "    <tr>\n",
       "      <th>14</th>\n",
       "      <td>local_code</td>\n",
       "      <td>40288</td>\n",
       "    </tr>\n",
       "    <tr>\n",
       "      <th>15</th>\n",
       "      <td>home_link</td>\n",
       "      <td>69620</td>\n",
       "    </tr>\n",
       "    <tr>\n",
       "      <th>16</th>\n",
       "      <td>wikipedia_link</td>\n",
       "      <td>62447</td>\n",
       "    </tr>\n",
       "    <tr>\n",
       "      <th>17</th>\n",
       "      <td>keywords</td>\n",
       "      <td>59410</td>\n",
       "    </tr>\n",
       "  </tbody>\n",
       "</table>\n",
       "</div>"
      ],
      "text/plain": [
       "                field  null count\n",
       "0                  id           0\n",
       "1               ident           0\n",
       "2                type           0\n",
       "3                name           0\n",
       "4        latitude_deg           0\n",
       "5       longitude_deg           0\n",
       "6        elevation_ft       13965\n",
       "7           continent       35344\n",
       "8         iso_country         259\n",
       "9          iso_region           0\n",
       "10       municipality        5133\n",
       "11  scheduled_service           0\n",
       "12           gps_code       30263\n",
       "13          iata_code       63876\n",
       "14         local_code       40288\n",
       "15          home_link       69620\n",
       "16     wikipedia_link       62447\n",
       "17           keywords       59410"
      ]
     },
     "execution_count": 229,
     "metadata": {},
     "output_type": "execute_result"
    }
   ],
   "source": [
    "pd.DataFrame(airports.isnull().sum()).reset_index().rename(columns = {'index':'field', 0:'null count'})"
   ]
  },
  {
   "cell_type": "code",
   "execution_count": 208,
   "id": "21436746-98d9-4bf3-b0e3-c648b9c47815",
   "metadata": {},
   "outputs": [
    {
     "data": {
      "text/html": [
       "<div>\n",
       "<style scoped>\n",
       "    .dataframe tbody tr th:only-of-type {\n",
       "        vertical-align: middle;\n",
       "    }\n",
       "\n",
       "    .dataframe tbody tr th {\n",
       "        vertical-align: top;\n",
       "    }\n",
       "\n",
       "    .dataframe thead th {\n",
       "        text-align: right;\n",
       "    }\n",
       "</style>\n",
       "<table border=\"1\" class=\"dataframe\">\n",
       "  <thead>\n",
       "    <tr style=\"text-align: right;\">\n",
       "      <th></th>\n",
       "      <th>id</th>\n",
       "      <th>latitude_deg</th>\n",
       "      <th>longitude_deg</th>\n",
       "      <th>elevation_ft</th>\n",
       "    </tr>\n",
       "  </thead>\n",
       "  <tbody>\n",
       "    <tr>\n",
       "      <th>count</th>\n",
       "      <td>73081.000000</td>\n",
       "      <td>73081.000000</td>\n",
       "      <td>73081.000000</td>\n",
       "      <td>59116.000000</td>\n",
       "    </tr>\n",
       "    <tr>\n",
       "      <th>mean</th>\n",
       "      <td>148862.902533</td>\n",
       "      <td>25.831326</td>\n",
       "      <td>-29.063121</td>\n",
       "      <td>1297.544573</td>\n",
       "    </tr>\n",
       "    <tr>\n",
       "      <th>std</th>\n",
       "      <td>153650.855665</td>\n",
       "      <td>26.217469</td>\n",
       "      <td>85.878061</td>\n",
       "      <td>1671.143589</td>\n",
       "    </tr>\n",
       "    <tr>\n",
       "      <th>min</th>\n",
       "      <td>2.000000</td>\n",
       "      <td>-90.000000</td>\n",
       "      <td>-179.876999</td>\n",
       "      <td>-1266.000000</td>\n",
       "    </tr>\n",
       "    <tr>\n",
       "      <th>25%</th>\n",
       "      <td>18502.000000</td>\n",
       "      <td>12.671400</td>\n",
       "      <td>-94.159103</td>\n",
       "      <td>205.000000</td>\n",
       "    </tr>\n",
       "    <tr>\n",
       "      <th>50%</th>\n",
       "      <td>39394.000000</td>\n",
       "      <td>35.171570</td>\n",
       "      <td>-69.916667</td>\n",
       "      <td>730.000000</td>\n",
       "    </tr>\n",
       "    <tr>\n",
       "      <th>75%</th>\n",
       "      <td>331399.000000</td>\n",
       "      <td>42.756810</td>\n",
       "      <td>23.671694</td>\n",
       "      <td>1604.000000</td>\n",
       "    </tr>\n",
       "    <tr>\n",
       "      <th>max</th>\n",
       "      <td>356666.000000</td>\n",
       "      <td>82.750000</td>\n",
       "      <td>179.975700</td>\n",
       "      <td>17372.000000</td>\n",
       "    </tr>\n",
       "  </tbody>\n",
       "</table>\n",
       "</div>"
      ],
      "text/plain": [
       "                  id  latitude_deg  longitude_deg  elevation_ft\n",
       "count   73081.000000  73081.000000   73081.000000  59116.000000\n",
       "mean   148862.902533     25.831326     -29.063121   1297.544573\n",
       "std    153650.855665     26.217469      85.878061   1671.143589\n",
       "min         2.000000    -90.000000    -179.876999  -1266.000000\n",
       "25%     18502.000000     12.671400     -94.159103    205.000000\n",
       "50%     39394.000000     35.171570     -69.916667    730.000000\n",
       "75%    331399.000000     42.756810      23.671694   1604.000000\n",
       "max    356666.000000     82.750000     179.975700  17372.000000"
      ]
     },
     "execution_count": 208,
     "metadata": {},
     "output_type": "execute_result"
    }
   ],
   "source": [
    "airports.describe()"
   ]
  },
  {
   "cell_type": "code",
   "execution_count": 204,
   "id": "22259970-0efe-4865-9fb8-41a8b811db80",
   "metadata": {},
   "outputs": [
    {
     "data": {
      "text/plain": [
       "small_airport     38850\n",
       "heliport          18496\n",
       "closed             9394\n",
       "medium_airport     4745\n",
       "seaplane_base      1111\n",
       "large_airport       448\n",
       "balloonport          37\n",
       "Name: type, dtype: int64"
      ]
     },
     "execution_count": 204,
     "metadata": {},
     "output_type": "execute_result"
    }
   ],
   "source": [
    "airports['type'].value_counts()"
   ]
  },
  {
   "cell_type": "code",
   "execution_count": 20,
   "id": "527f3ad6-c8f1-4925-b849-1121bf0e784a",
   "metadata": {},
   "outputs": [
    {
     "data": {
      "text/html": [
       "<div>\n",
       "<style scoped>\n",
       "    .dataframe tbody tr th:only-of-type {\n",
       "        vertical-align: middle;\n",
       "    }\n",
       "\n",
       "    .dataframe tbody tr th {\n",
       "        vertical-align: top;\n",
       "    }\n",
       "\n",
       "    .dataframe thead th {\n",
       "        text-align: right;\n",
       "    }\n",
       "</style>\n",
       "<table border=\"1\" class=\"dataframe\">\n",
       "  <thead>\n",
       "    <tr style=\"text-align: right;\">\n",
       "      <th></th>\n",
       "      <th>id</th>\n",
       "      <th>airport_ref</th>\n",
       "      <th>airport_ident</th>\n",
       "      <th>type</th>\n",
       "      <th>description</th>\n",
       "      <th>frequency_mhz</th>\n",
       "    </tr>\n",
       "  </thead>\n",
       "  <tbody>\n",
       "    <tr>\n",
       "      <th>0</th>\n",
       "      <td>70518</td>\n",
       "      <td>6528</td>\n",
       "      <td>00CA</td>\n",
       "      <td>CTAF</td>\n",
       "      <td>CTAF</td>\n",
       "      <td>122.9</td>\n",
       "    </tr>\n",
       "    <tr>\n",
       "      <th>1</th>\n",
       "      <td>307581</td>\n",
       "      <td>6589</td>\n",
       "      <td>01FL</td>\n",
       "      <td>ARCAL</td>\n",
       "      <td>NaN</td>\n",
       "      <td>122.9</td>\n",
       "    </tr>\n",
       "    <tr>\n",
       "      <th>2</th>\n",
       "      <td>75239</td>\n",
       "      <td>6589</td>\n",
       "      <td>01FL</td>\n",
       "      <td>CTAF</td>\n",
       "      <td>CEDAR KNOLL TRAFFIC</td>\n",
       "      <td>122.8</td>\n",
       "    </tr>\n",
       "    <tr>\n",
       "      <th>3</th>\n",
       "      <td>60191</td>\n",
       "      <td>6756</td>\n",
       "      <td>04CA</td>\n",
       "      <td>CTAF</td>\n",
       "      <td>CTAF</td>\n",
       "      <td>122.9</td>\n",
       "    </tr>\n",
       "    <tr>\n",
       "      <th>4</th>\n",
       "      <td>59287</td>\n",
       "      <td>6779</td>\n",
       "      <td>04MS</td>\n",
       "      <td>UNIC</td>\n",
       "      <td>UNICOM</td>\n",
       "      <td>122.8</td>\n",
       "    </tr>\n",
       "  </tbody>\n",
       "</table>\n",
       "</div>"
      ],
      "text/plain": [
       "       id  airport_ref airport_ident   type          description  \\\n",
       "0   70518         6528          00CA   CTAF                 CTAF   \n",
       "1  307581         6589          01FL  ARCAL                  NaN   \n",
       "2   75239         6589          01FL   CTAF  CEDAR KNOLL TRAFFIC   \n",
       "3   60191         6756          04CA   CTAF                 CTAF   \n",
       "4   59287         6779          04MS   UNIC               UNICOM   \n",
       "\n",
       "   frequency_mhz  \n",
       "0          122.9  \n",
       "1          122.9  \n",
       "2          122.8  \n",
       "3          122.9  \n",
       "4          122.8  "
      ]
     },
     "execution_count": 20,
     "metadata": {},
     "output_type": "execute_result"
    }
   ],
   "source": [
    "airport_freq.head()"
   ]
  },
  {
   "cell_type": "code",
   "execution_count": 243,
   "id": "2d571190-4ae9-4430-9852-dae21768453c",
   "metadata": {
    "tags": []
   },
   "outputs": [
    {
     "data": {
      "text/html": [
       "<div>\n",
       "<style scoped>\n",
       "    .dataframe tbody tr th:only-of-type {\n",
       "        vertical-align: middle;\n",
       "    }\n",
       "\n",
       "    .dataframe tbody tr th {\n",
       "        vertical-align: top;\n",
       "    }\n",
       "\n",
       "    .dataframe thead th {\n",
       "        text-align: right;\n",
       "    }\n",
       "</style>\n",
       "<table border=\"1\" class=\"dataframe\">\n",
       "  <thead>\n",
       "    <tr style=\"text-align: right;\">\n",
       "      <th></th>\n",
       "      <th>id</th>\n",
       "      <th>airport_ref</th>\n",
       "      <th>airport_ident</th>\n",
       "      <th>length_ft</th>\n",
       "      <th>width_ft</th>\n",
       "      <th>surface</th>\n",
       "      <th>lighted</th>\n",
       "      <th>closed</th>\n",
       "      <th>le_ident</th>\n",
       "      <th>le_latitude_deg</th>\n",
       "      <th>le_longitude_deg</th>\n",
       "      <th>le_elevation_ft</th>\n",
       "      <th>le_heading_degT</th>\n",
       "      <th>le_displaced_threshold_ft</th>\n",
       "      <th>he_ident</th>\n",
       "      <th>he_latitude_deg</th>\n",
       "      <th>he_longitude_deg</th>\n",
       "      <th>he_elevation_ft</th>\n",
       "      <th>he_heading_degT</th>\n",
       "      <th>he_displaced_threshold_ft</th>\n",
       "    </tr>\n",
       "  </thead>\n",
       "  <tbody>\n",
       "    <tr>\n",
       "      <th>0</th>\n",
       "      <td>269408</td>\n",
       "      <td>6523</td>\n",
       "      <td>00A</td>\n",
       "      <td>80.0</td>\n",
       "      <td>80.0</td>\n",
       "      <td>ASPH-G</td>\n",
       "      <td>1</td>\n",
       "      <td>0</td>\n",
       "      <td>H1</td>\n",
       "      <td>NaN</td>\n",
       "      <td>NaN</td>\n",
       "      <td>NaN</td>\n",
       "      <td>NaN</td>\n",
       "      <td>NaN</td>\n",
       "      <td>NaN</td>\n",
       "      <td>NaN</td>\n",
       "      <td>NaN</td>\n",
       "      <td>NaN</td>\n",
       "      <td>NaN</td>\n",
       "      <td>NaN</td>\n",
       "    </tr>\n",
       "    <tr>\n",
       "      <th>1</th>\n",
       "      <td>255155</td>\n",
       "      <td>6524</td>\n",
       "      <td>00AK</td>\n",
       "      <td>2500.0</td>\n",
       "      <td>70.0</td>\n",
       "      <td>GRVL</td>\n",
       "      <td>0</td>\n",
       "      <td>0</td>\n",
       "      <td>N</td>\n",
       "      <td>NaN</td>\n",
       "      <td>NaN</td>\n",
       "      <td>NaN</td>\n",
       "      <td>NaN</td>\n",
       "      <td>NaN</td>\n",
       "      <td>S</td>\n",
       "      <td>NaN</td>\n",
       "      <td>NaN</td>\n",
       "      <td>NaN</td>\n",
       "      <td>NaN</td>\n",
       "      <td>NaN</td>\n",
       "    </tr>\n",
       "    <tr>\n",
       "      <th>2</th>\n",
       "      <td>254165</td>\n",
       "      <td>6525</td>\n",
       "      <td>00AL</td>\n",
       "      <td>2300.0</td>\n",
       "      <td>200.0</td>\n",
       "      <td>TURF</td>\n",
       "      <td>0</td>\n",
       "      <td>0</td>\n",
       "      <td>01</td>\n",
       "      <td>NaN</td>\n",
       "      <td>NaN</td>\n",
       "      <td>NaN</td>\n",
       "      <td>NaN</td>\n",
       "      <td>NaN</td>\n",
       "      <td>19</td>\n",
       "      <td>NaN</td>\n",
       "      <td>NaN</td>\n",
       "      <td>NaN</td>\n",
       "      <td>NaN</td>\n",
       "      <td>NaN</td>\n",
       "    </tr>\n",
       "    <tr>\n",
       "      <th>3</th>\n",
       "      <td>270932</td>\n",
       "      <td>6526</td>\n",
       "      <td>00AR</td>\n",
       "      <td>40.0</td>\n",
       "      <td>40.0</td>\n",
       "      <td>GRASS</td>\n",
       "      <td>0</td>\n",
       "      <td>0</td>\n",
       "      <td>H1</td>\n",
       "      <td>NaN</td>\n",
       "      <td>NaN</td>\n",
       "      <td>NaN</td>\n",
       "      <td>NaN</td>\n",
       "      <td>NaN</td>\n",
       "      <td>H1</td>\n",
       "      <td>NaN</td>\n",
       "      <td>NaN</td>\n",
       "      <td>NaN</td>\n",
       "      <td>NaN</td>\n",
       "      <td>NaN</td>\n",
       "    </tr>\n",
       "    <tr>\n",
       "      <th>4</th>\n",
       "      <td>322128</td>\n",
       "      <td>322127</td>\n",
       "      <td>00AS</td>\n",
       "      <td>1450.0</td>\n",
       "      <td>60.0</td>\n",
       "      <td>Turf</td>\n",
       "      <td>0</td>\n",
       "      <td>0</td>\n",
       "      <td>1</td>\n",
       "      <td>NaN</td>\n",
       "      <td>NaN</td>\n",
       "      <td>NaN</td>\n",
       "      <td>NaN</td>\n",
       "      <td>NaN</td>\n",
       "      <td>19</td>\n",
       "      <td>NaN</td>\n",
       "      <td>NaN</td>\n",
       "      <td>NaN</td>\n",
       "      <td>NaN</td>\n",
       "      <td>NaN</td>\n",
       "    </tr>\n",
       "  </tbody>\n",
       "</table>\n",
       "</div>"
      ],
      "text/plain": [
       "       id  airport_ref airport_ident  length_ft  width_ft surface  lighted  \\\n",
       "0  269408         6523           00A       80.0      80.0  ASPH-G        1   \n",
       "1  255155         6524          00AK     2500.0      70.0    GRVL        0   \n",
       "2  254165         6525          00AL     2300.0     200.0    TURF        0   \n",
       "3  270932         6526          00AR       40.0      40.0   GRASS        0   \n",
       "4  322128       322127          00AS     1450.0      60.0    Turf        0   \n",
       "\n",
       "   closed le_ident  le_latitude_deg  le_longitude_deg  le_elevation_ft  \\\n",
       "0       0       H1              NaN               NaN              NaN   \n",
       "1       0        N              NaN               NaN              NaN   \n",
       "2       0       01              NaN               NaN              NaN   \n",
       "3       0       H1              NaN               NaN              NaN   \n",
       "4       0        1              NaN               NaN              NaN   \n",
       "\n",
       "   le_heading_degT  le_displaced_threshold_ft he_ident  he_latitude_deg  \\\n",
       "0              NaN                        NaN      NaN              NaN   \n",
       "1              NaN                        NaN        S              NaN   \n",
       "2              NaN                        NaN       19              NaN   \n",
       "3              NaN                        NaN       H1              NaN   \n",
       "4              NaN                        NaN       19              NaN   \n",
       "\n",
       "   he_longitude_deg  he_elevation_ft  he_heading_degT  \\\n",
       "0               NaN              NaN              NaN   \n",
       "1               NaN              NaN              NaN   \n",
       "2               NaN              NaN              NaN   \n",
       "3               NaN              NaN              NaN   \n",
       "4               NaN              NaN              NaN   \n",
       "\n",
       "   he_displaced_threshold_ft  \n",
       "0                        NaN  \n",
       "1                        NaN  \n",
       "2                        NaN  \n",
       "3                        NaN  \n",
       "4                        NaN  "
      ]
     },
     "execution_count": 243,
     "metadata": {},
     "output_type": "execute_result"
    }
   ],
   "source": [
    "runways.head()"
   ]
  },
  {
   "cell_type": "code",
   "execution_count": 263,
   "id": "fb586f8a-3e9a-4414-afa8-266ebcc86b84",
   "metadata": {},
   "outputs": [
    {
     "data": {
      "text/html": [
       "<div>\n",
       "<style scoped>\n",
       "    .dataframe tbody tr th:only-of-type {\n",
       "        vertical-align: middle;\n",
       "    }\n",
       "\n",
       "    .dataframe tbody tr th {\n",
       "        vertical-align: top;\n",
       "    }\n",
       "\n",
       "    .dataframe thead th {\n",
       "        text-align: right;\n",
       "    }\n",
       "</style>\n",
       "<table border=\"1\" class=\"dataframe\">\n",
       "  <thead>\n",
       "    <tr style=\"text-align: right;\">\n",
       "      <th></th>\n",
       "      <th>id</th>\n",
       "      <th>airport_ref</th>\n",
       "      <th>count</th>\n",
       "    </tr>\n",
       "  </thead>\n",
       "  <tbody>\n",
       "    <tr>\n",
       "      <th>0</th>\n",
       "      <td>232758</td>\n",
       "      <td>6402</td>\n",
       "      <td>1</td>\n",
       "    </tr>\n",
       "    <tr>\n",
       "      <th>7456</th>\n",
       "      <td>244475</td>\n",
       "      <td>18866</td>\n",
       "      <td>1</td>\n",
       "    </tr>\n",
       "    <tr>\n",
       "      <th>7448</th>\n",
       "      <td>244467</td>\n",
       "      <td>3771</td>\n",
       "      <td>1</td>\n",
       "    </tr>\n",
       "    <tr>\n",
       "      <th>7449</th>\n",
       "      <td>244468</td>\n",
       "      <td>3771</td>\n",
       "      <td>1</td>\n",
       "    </tr>\n",
       "    <tr>\n",
       "      <th>7450</th>\n",
       "      <td>244469</td>\n",
       "      <td>3771</td>\n",
       "      <td>1</td>\n",
       "    </tr>\n",
       "    <tr>\n",
       "      <th>...</th>\n",
       "      <td>...</td>\n",
       "      <td>...</td>\n",
       "      <td>...</td>\n",
       "    </tr>\n",
       "    <tr>\n",
       "      <th>3728</th>\n",
       "      <td>239318</td>\n",
       "      <td>5512</td>\n",
       "      <td>1</td>\n",
       "    </tr>\n",
       "    <tr>\n",
       "      <th>3729</th>\n",
       "      <td>239319</td>\n",
       "      <td>5514</td>\n",
       "      <td>1</td>\n",
       "    </tr>\n",
       "    <tr>\n",
       "      <th>3730</th>\n",
       "      <td>239320</td>\n",
       "      <td>5524</td>\n",
       "      <td>1</td>\n",
       "    </tr>\n",
       "    <tr>\n",
       "      <th>3731</th>\n",
       "      <td>239321</td>\n",
       "      <td>5520</td>\n",
       "      <td>1</td>\n",
       "    </tr>\n",
       "    <tr>\n",
       "      <th>11179</th>\n",
       "      <td>356601</td>\n",
       "      <td>45518</td>\n",
       "      <td>1</td>\n",
       "    </tr>\n",
       "  </tbody>\n",
       "</table>\n",
       "<p>11180 rows × 3 columns</p>\n",
       "</div>"
      ],
      "text/plain": [
       "           id  airport_ref  count\n",
       "0      232758         6402      1\n",
       "7456   244475        18866      1\n",
       "7448   244467         3771      1\n",
       "7449   244468         3771      1\n",
       "7450   244469         3771      1\n",
       "...       ...          ...    ...\n",
       "3728   239318         5512      1\n",
       "3729   239319         5514      1\n",
       "3730   239320         5524      1\n",
       "3731   239321         5520      1\n",
       "11179  356601        45518      1\n",
       "\n",
       "[11180 rows x 3 columns]"
      ]
     },
     "execution_count": 263,
     "metadata": {},
     "output_type": "execute_result"
    }
   ],
   "source": [
    "runways[runways.lighted==1].groupby(['id','airport_ref']).size().reset_index().rename(columns={0:'count'}).sort_values('count',ascending = False)"
   ]
  },
  {
   "cell_type": "code",
   "execution_count": 24,
   "id": "c7cd7e18-53df-4c34-98f8-075b82f91fbd",
   "metadata": {},
   "outputs": [
    {
     "data": {
      "text/plain": [
       "array(['heliport', 'small_airport', 'closed', 'seaplane_base',\n",
       "       'balloonport', 'medium_airport', 'large_airport'], dtype=object)"
      ]
     },
     "execution_count": 24,
     "metadata": {},
     "output_type": "execute_result"
    }
   ],
   "source": [
    "# select distinct type from airports\n",
    "airports.type.unique()"
   ]
  },
  {
   "cell_type": "code",
   "execution_count": 50,
   "id": "d39fba21-8c9d-4159-b51f-832460998c47",
   "metadata": {},
   "outputs": [
    {
     "data": {
      "text/html": [
       "<div>\n",
       "<style scoped>\n",
       "    .dataframe tbody tr th:only-of-type {\n",
       "        vertical-align: middle;\n",
       "    }\n",
       "\n",
       "    .dataframe tbody tr th {\n",
       "        vertical-align: top;\n",
       "    }\n",
       "\n",
       "    .dataframe thead th {\n",
       "        text-align: right;\n",
       "    }\n",
       "</style>\n",
       "<table border=\"1\" class=\"dataframe\">\n",
       "  <thead>\n",
       "    <tr style=\"text-align: right;\">\n",
       "      <th></th>\n",
       "      <th>ident</th>\n",
       "      <th>name</th>\n",
       "      <th>municipality</th>\n",
       "    </tr>\n",
       "  </thead>\n",
       "  <tbody>\n",
       "    <tr>\n",
       "      <th>69760</th>\n",
       "      <td>WJBK</td>\n",
       "      <td>Berkeley Municipal Heliport</td>\n",
       "      <td>Oakland</td>\n",
       "    </tr>\n",
       "    <tr>\n",
       "      <th>67748</th>\n",
       "      <td>US-CA64</td>\n",
       "      <td>Gilbreath Bros Duck Club Airport</td>\n",
       "      <td>Wasco</td>\n",
       "    </tr>\n",
       "    <tr>\n",
       "      <th>67742</th>\n",
       "      <td>US-7099</td>\n",
       "      <td>Laguna Seca Raceway Heliport</td>\n",
       "      <td>Monterey</td>\n",
       "    </tr>\n",
       "    <tr>\n",
       "      <th>67678</th>\n",
       "      <td>US-7035</td>\n",
       "      <td>Dumont Dunes Heliport</td>\n",
       "      <td>Baker</td>\n",
       "    </tr>\n",
       "    <tr>\n",
       "      <th>67665</th>\n",
       "      <td>US-7022</td>\n",
       "      <td>Pilibos Ranch Airport</td>\n",
       "      <td>Mendota</td>\n",
       "    </tr>\n",
       "    <tr>\n",
       "      <th>...</th>\n",
       "      <td>...</td>\n",
       "      <td>...</td>\n",
       "      <td>...</td>\n",
       "    </tr>\n",
       "    <tr>\n",
       "      <th>70</th>\n",
       "      <td>01CL</td>\n",
       "      <td>Swansboro Country Airport</td>\n",
       "      <td>Placerville</td>\n",
       "    </tr>\n",
       "    <tr>\n",
       "      <th>69</th>\n",
       "      <td>01CA</td>\n",
       "      <td>SCE Lugo Substation Heliport</td>\n",
       "      <td>Hesperia</td>\n",
       "    </tr>\n",
       "    <tr>\n",
       "      <th>9</th>\n",
       "      <td>00CN</td>\n",
       "      <td>Kitchen Creek Helibase Heliport</td>\n",
       "      <td>Pine Valley</td>\n",
       "    </tr>\n",
       "    <tr>\n",
       "      <th>8</th>\n",
       "      <td>00CL</td>\n",
       "      <td>Williams Ag Airport</td>\n",
       "      <td>Biggs</td>\n",
       "    </tr>\n",
       "    <tr>\n",
       "      <th>7</th>\n",
       "      <td>00CA</td>\n",
       "      <td>Goldstone (GTS) Airport</td>\n",
       "      <td>Barstow</td>\n",
       "    </tr>\n",
       "  </tbody>\n",
       "</table>\n",
       "<p>2259 rows × 3 columns</p>\n",
       "</div>"
      ],
      "text/plain": [
       "         ident                              name municipality\n",
       "69760     WJBK       Berkeley Municipal Heliport      Oakland\n",
       "67748  US-CA64  Gilbreath Bros Duck Club Airport        Wasco\n",
       "67742  US-7099      Laguna Seca Raceway Heliport     Monterey\n",
       "67678  US-7035             Dumont Dunes Heliport        Baker\n",
       "67665  US-7022             Pilibos Ranch Airport      Mendota\n",
       "...        ...                               ...          ...\n",
       "70        01CL         Swansboro Country Airport  Placerville\n",
       "69        01CA      SCE Lugo Substation Heliport     Hesperia\n",
       "9         00CN   Kitchen Creek Helibase Heliport  Pine Valley\n",
       "8         00CL               Williams Ag Airport        Biggs\n",
       "7         00CA           Goldstone (GTS) Airport      Barstow\n",
       "\n",
       "[2259 rows x 3 columns]"
      ]
     },
     "execution_count": 50,
     "metadata": {},
     "output_type": "execute_result"
    }
   ],
   "source": [
    "# select ident, name, municipality from airports where iso_region = 'US-CA' and type not in ('seaplane_base', 'large_airport') order by ident desc\n",
    "# not in = ~\n",
    "airports[(airports.iso_region == 'US-CA') & ~airports['type'].isin(['seaplane_base','large_airport'])][['ident','name','municipality']].sort_values('ident',ascending=False)"
   ]
  },
  {
   "cell_type": "code",
   "execution_count": 68,
   "id": "63695503-aab3-4e36-9673-713a6ea4149b",
   "metadata": {},
   "outputs": [
    {
     "data": {
      "text/html": [
       "<div>\n",
       "<style scoped>\n",
       "    .dataframe tbody tr th:only-of-type {\n",
       "        vertical-align: middle;\n",
       "    }\n",
       "\n",
       "    .dataframe tbody tr th {\n",
       "        vertical-align: top;\n",
       "    }\n",
       "\n",
       "    .dataframe thead th {\n",
       "        text-align: right;\n",
       "    }\n",
       "</style>\n",
       "<table border=\"1\" class=\"dataframe\">\n",
       "  <thead>\n",
       "    <tr style=\"text-align: right;\">\n",
       "      <th></th>\n",
       "      <th>iso_country</th>\n",
       "      <th>type</th>\n",
       "      <th>cnt</th>\n",
       "    </tr>\n",
       "  </thead>\n",
       "  <tbody>\n",
       "    <tr>\n",
       "      <th>0</th>\n",
       "      <td>AD</td>\n",
       "      <td>closed</td>\n",
       "      <td>1</td>\n",
       "    </tr>\n",
       "    <tr>\n",
       "      <th>1</th>\n",
       "      <td>AD</td>\n",
       "      <td>heliport</td>\n",
       "      <td>2</td>\n",
       "    </tr>\n",
       "    <tr>\n",
       "      <th>2</th>\n",
       "      <td>AE</td>\n",
       "      <td>closed</td>\n",
       "      <td>3</td>\n",
       "    </tr>\n",
       "    <tr>\n",
       "      <th>3</th>\n",
       "      <td>AE</td>\n",
       "      <td>heliport</td>\n",
       "      <td>200</td>\n",
       "    </tr>\n",
       "    <tr>\n",
       "      <th>4</th>\n",
       "      <td>AE</td>\n",
       "      <td>large_airport</td>\n",
       "      <td>4</td>\n",
       "    </tr>\n",
       "    <tr>\n",
       "      <th>...</th>\n",
       "      <td>...</td>\n",
       "      <td>...</td>\n",
       "      <td>...</td>\n",
       "    </tr>\n",
       "    <tr>\n",
       "      <th>951</th>\n",
       "      <td>ZW</td>\n",
       "      <td>closed</td>\n",
       "      <td>6</td>\n",
       "    </tr>\n",
       "    <tr>\n",
       "      <th>952</th>\n",
       "      <td>ZW</td>\n",
       "      <td>heliport</td>\n",
       "      <td>5</td>\n",
       "    </tr>\n",
       "    <tr>\n",
       "      <th>953</th>\n",
       "      <td>ZW</td>\n",
       "      <td>large_airport</td>\n",
       "      <td>1</td>\n",
       "    </tr>\n",
       "    <tr>\n",
       "      <th>954</th>\n",
       "      <td>ZW</td>\n",
       "      <td>medium_airport</td>\n",
       "      <td>8</td>\n",
       "    </tr>\n",
       "    <tr>\n",
       "      <th>955</th>\n",
       "      <td>ZW</td>\n",
       "      <td>small_airport</td>\n",
       "      <td>135</td>\n",
       "    </tr>\n",
       "  </tbody>\n",
       "</table>\n",
       "<p>956 rows × 3 columns</p>\n",
       "</div>"
      ],
      "text/plain": [
       "    iso_country            type  cnt\n",
       "0            AD          closed    1\n",
       "1            AD        heliport    2\n",
       "2            AE          closed    3\n",
       "3            AE        heliport  200\n",
       "4            AE   large_airport    4\n",
       "..          ...             ...  ...\n",
       "951          ZW          closed    6\n",
       "952          ZW        heliport    5\n",
       "953          ZW   large_airport    1\n",
       "954          ZW  medium_airport    8\n",
       "955          ZW   small_airport  135\n",
       "\n",
       "[956 rows x 3 columns]"
      ]
     },
     "execution_count": 68,
     "metadata": {},
     "output_type": "execute_result"
    }
   ],
   "source": [
    "# select iso_country, type, count(*) as cnt from airports group by 1,2\n",
    "airports.groupby(['iso_country','type']).size().reset_index(name = 'cnt')\n",
    "# size() in pandas is the same as count()"
   ]
  },
  {
   "cell_type": "code",
   "execution_count": 209,
   "id": "f4544bde-a3ed-4be2-b81b-0dd2069babe9",
   "metadata": {},
   "outputs": [
    {
     "data": {
      "text/html": [
       "<div>\n",
       "<style scoped>\n",
       "    .dataframe tbody tr th:only-of-type {\n",
       "        vertical-align: middle;\n",
       "    }\n",
       "\n",
       "    .dataframe tbody tr th {\n",
       "        vertical-align: top;\n",
       "    }\n",
       "\n",
       "    .dataframe thead th {\n",
       "        text-align: right;\n",
       "    }\n",
       "</style>\n",
       "<table border=\"1\" class=\"dataframe\">\n",
       "  <thead>\n",
       "    <tr style=\"text-align: right;\">\n",
       "      <th></th>\n",
       "      <th>count</th>\n",
       "      <th>mean</th>\n",
       "      <th>std</th>\n",
       "      <th>min</th>\n",
       "      <th>25%</th>\n",
       "      <th>50%</th>\n",
       "      <th>75%</th>\n",
       "      <th>max</th>\n",
       "    </tr>\n",
       "    <tr>\n",
       "      <th>iso_country</th>\n",
       "      <th></th>\n",
       "      <th></th>\n",
       "      <th></th>\n",
       "      <th></th>\n",
       "      <th></th>\n",
       "      <th></th>\n",
       "      <th></th>\n",
       "      <th></th>\n",
       "    </tr>\n",
       "  </thead>\n",
       "  <tbody>\n",
       "    <tr>\n",
       "      <th>AD</th>\n",
       "      <td>3.0</td>\n",
       "      <td>42.534156</td>\n",
       "      <td>0.019866</td>\n",
       "      <td>42.511228</td>\n",
       "      <td>42.528106</td>\n",
       "      <td>42.544983</td>\n",
       "      <td>42.545620</td>\n",
       "      <td>42.546257</td>\n",
       "    </tr>\n",
       "    <tr>\n",
       "      <th>AE</th>\n",
       "      <td>248.0</td>\n",
       "      <td>24.714958</td>\n",
       "      <td>0.616001</td>\n",
       "      <td>22.710570</td>\n",
       "      <td>24.351277</td>\n",
       "      <td>24.745523</td>\n",
       "      <td>25.279559</td>\n",
       "      <td>26.049600</td>\n",
       "    </tr>\n",
       "    <tr>\n",
       "      <th>AF</th>\n",
       "      <td>77.0</td>\n",
       "      <td>34.583115</td>\n",
       "      <td>1.873120</td>\n",
       "      <td>30.303216</td>\n",
       "      <td>33.333401</td>\n",
       "      <td>34.506716</td>\n",
       "      <td>36.282828</td>\n",
       "      <td>38.461708</td>\n",
       "    </tr>\n",
       "    <tr>\n",
       "      <th>AG</th>\n",
       "      <td>4.0</td>\n",
       "      <td>17.487323</td>\n",
       "      <td>0.236336</td>\n",
       "      <td>17.136700</td>\n",
       "      <td>17.450874</td>\n",
       "      <td>17.588397</td>\n",
       "      <td>17.624845</td>\n",
       "      <td>17.635799</td>\n",
       "    </tr>\n",
       "    <tr>\n",
       "      <th>AI</th>\n",
       "      <td>2.0</td>\n",
       "      <td>18.246446</td>\n",
       "      <td>0.058935</td>\n",
       "      <td>18.204773</td>\n",
       "      <td>18.225610</td>\n",
       "      <td>18.246446</td>\n",
       "      <td>18.267283</td>\n",
       "      <td>18.288120</td>\n",
       "    </tr>\n",
       "    <tr>\n",
       "      <th>...</th>\n",
       "      <td>...</td>\n",
       "      <td>...</td>\n",
       "      <td>...</td>\n",
       "      <td>...</td>\n",
       "      <td>...</td>\n",
       "      <td>...</td>\n",
       "      <td>...</td>\n",
       "      <td>...</td>\n",
       "    </tr>\n",
       "    <tr>\n",
       "      <th>YE</th>\n",
       "      <td>38.0</td>\n",
       "      <td>14.703529</td>\n",
       "      <td>1.417538</td>\n",
       "      <td>12.630700</td>\n",
       "      <td>13.884363</td>\n",
       "      <td>14.606950</td>\n",
       "      <td>15.474532</td>\n",
       "      <td>18.720709</td>\n",
       "    </tr>\n",
       "    <tr>\n",
       "      <th>YT</th>\n",
       "      <td>1.0</td>\n",
       "      <td>-12.809319</td>\n",
       "      <td>NaN</td>\n",
       "      <td>-12.809319</td>\n",
       "      <td>-12.809319</td>\n",
       "      <td>-12.809319</td>\n",
       "      <td>-12.809319</td>\n",
       "      <td>-12.809319</td>\n",
       "    </tr>\n",
       "    <tr>\n",
       "      <th>ZA</th>\n",
       "      <td>638.0</td>\n",
       "      <td>-28.559998</td>\n",
       "      <td>3.214714</td>\n",
       "      <td>-46.875999</td>\n",
       "      <td>-30.763351</td>\n",
       "      <td>-28.344300</td>\n",
       "      <td>-26.012300</td>\n",
       "      <td>-22.356001</td>\n",
       "    </tr>\n",
       "    <tr>\n",
       "      <th>ZM</th>\n",
       "      <td>123.0</td>\n",
       "      <td>-14.173020</td>\n",
       "      <td>2.358596</td>\n",
       "      <td>-18.019170</td>\n",
       "      <td>-15.837841</td>\n",
       "      <td>-14.375891</td>\n",
       "      <td>-12.833400</td>\n",
       "      <td>-8.428730</td>\n",
       "    </tr>\n",
       "    <tr>\n",
       "      <th>ZW</th>\n",
       "      <td>155.0</td>\n",
       "      <td>-18.534917</td>\n",
       "      <td>1.686944</td>\n",
       "      <td>-22.197617</td>\n",
       "      <td>-19.928467</td>\n",
       "      <td>-18.216999</td>\n",
       "      <td>-17.166769</td>\n",
       "      <td>-15.647438</td>\n",
       "    </tr>\n",
       "  </tbody>\n",
       "</table>\n",
       "<p>244 rows × 8 columns</p>\n",
       "</div>"
      ],
      "text/plain": [
       "             count       mean       std        min        25%        50%  \\\n",
       "iso_country                                                                \n",
       "AD             3.0  42.534156  0.019866  42.511228  42.528106  42.544983   \n",
       "AE           248.0  24.714958  0.616001  22.710570  24.351277  24.745523   \n",
       "AF            77.0  34.583115  1.873120  30.303216  33.333401  34.506716   \n",
       "AG             4.0  17.487323  0.236336  17.136700  17.450874  17.588397   \n",
       "AI             2.0  18.246446  0.058935  18.204773  18.225610  18.246446   \n",
       "...            ...        ...       ...        ...        ...        ...   \n",
       "YE            38.0  14.703529  1.417538  12.630700  13.884363  14.606950   \n",
       "YT             1.0 -12.809319       NaN -12.809319 -12.809319 -12.809319   \n",
       "ZA           638.0 -28.559998  3.214714 -46.875999 -30.763351 -28.344300   \n",
       "ZM           123.0 -14.173020  2.358596 -18.019170 -15.837841 -14.375891   \n",
       "ZW           155.0 -18.534917  1.686944 -22.197617 -19.928467 -18.216999   \n",
       "\n",
       "                   75%        max  \n",
       "iso_country                        \n",
       "AD           42.545620  42.546257  \n",
       "AE           25.279559  26.049600  \n",
       "AF           36.282828  38.461708  \n",
       "AG           17.624845  17.635799  \n",
       "AI           18.267283  18.288120  \n",
       "...                ...        ...  \n",
       "YE           15.474532  18.720709  \n",
       "YT          -12.809319 -12.809319  \n",
       "ZA          -26.012300 -22.356001  \n",
       "ZM          -12.833400  -8.428730  \n",
       "ZW          -17.166769 -15.647438  \n",
       "\n",
       "[244 rows x 8 columns]"
      ]
     },
     "execution_count": 209,
     "metadata": {},
     "output_type": "execute_result"
    }
   ],
   "source": [
    "airports.groupby('iso_country')['latitude_deg'].describe()"
   ]
  },
  {
   "cell_type": "code",
   "execution_count": 93,
   "id": "ee1aedc7-dc1d-4e0f-aa46-8ea765ef4099",
   "metadata": {},
   "outputs": [
    {
     "data": {
      "text/html": [
       "<div>\n",
       "<style scoped>\n",
       "    .dataframe tbody tr th:only-of-type {\n",
       "        vertical-align: middle;\n",
       "    }\n",
       "\n",
       "    .dataframe tbody tr th {\n",
       "        vertical-align: top;\n",
       "    }\n",
       "\n",
       "    .dataframe thead th {\n",
       "        text-align: right;\n",
       "    }\n",
       "</style>\n",
       "<table border=\"1\" class=\"dataframe\">\n",
       "  <thead>\n",
       "    <tr style=\"text-align: right;\">\n",
       "      <th></th>\n",
       "      <th>iso_country</th>\n",
       "      <th>type</th>\n",
       "      <th>gps_cnt</th>\n",
       "    </tr>\n",
       "  </thead>\n",
       "  <tbody>\n",
       "    <tr>\n",
       "      <th>0</th>\n",
       "      <td>AD</td>\n",
       "      <td>closed</td>\n",
       "      <td>0</td>\n",
       "    </tr>\n",
       "    <tr>\n",
       "      <th>1</th>\n",
       "      <td>AD</td>\n",
       "      <td>heliport</td>\n",
       "      <td>0</td>\n",
       "    </tr>\n",
       "    <tr>\n",
       "      <th>7</th>\n",
       "      <td>AE</td>\n",
       "      <td>small_airport</td>\n",
       "      <td>14</td>\n",
       "    </tr>\n",
       "    <tr>\n",
       "      <th>5</th>\n",
       "      <td>AE</td>\n",
       "      <td>medium_airport</td>\n",
       "      <td>7</td>\n",
       "    </tr>\n",
       "    <tr>\n",
       "      <th>4</th>\n",
       "      <td>AE</td>\n",
       "      <td>large_airport</td>\n",
       "      <td>4</td>\n",
       "    </tr>\n",
       "    <tr>\n",
       "      <th>...</th>\n",
       "      <td>...</td>\n",
       "      <td>...</td>\n",
       "      <td>...</td>\n",
       "    </tr>\n",
       "    <tr>\n",
       "      <th>955</th>\n",
       "      <td>ZW</td>\n",
       "      <td>small_airport</td>\n",
       "      <td>84</td>\n",
       "    </tr>\n",
       "    <tr>\n",
       "      <th>954</th>\n",
       "      <td>ZW</td>\n",
       "      <td>medium_airport</td>\n",
       "      <td>8</td>\n",
       "    </tr>\n",
       "    <tr>\n",
       "      <th>951</th>\n",
       "      <td>ZW</td>\n",
       "      <td>closed</td>\n",
       "      <td>2</td>\n",
       "    </tr>\n",
       "    <tr>\n",
       "      <th>953</th>\n",
       "      <td>ZW</td>\n",
       "      <td>large_airport</td>\n",
       "      <td>1</td>\n",
       "    </tr>\n",
       "    <tr>\n",
       "      <th>952</th>\n",
       "      <td>ZW</td>\n",
       "      <td>heliport</td>\n",
       "      <td>0</td>\n",
       "    </tr>\n",
       "  </tbody>\n",
       "</table>\n",
       "<p>956 rows × 3 columns</p>\n",
       "</div>"
      ],
      "text/plain": [
       "    iso_country            type  gps_cnt\n",
       "0            AD          closed        0\n",
       "1            AD        heliport        0\n",
       "7            AE   small_airport       14\n",
       "5            AE  medium_airport        7\n",
       "4            AE   large_airport        4\n",
       "..          ...             ...      ...\n",
       "955          ZW   small_airport       84\n",
       "954          ZW  medium_airport        8\n",
       "951          ZW          closed        2\n",
       "953          ZW   large_airport        1\n",
       "952          ZW        heliport        0\n",
       "\n",
       "[956 rows x 3 columns]"
      ]
     },
     "execution_count": 93,
     "metadata": {},
     "output_type": "execute_result"
    }
   ],
   "source": [
    "# select iso_country, type, count(distinct gps_code) as gps_cnt from airports group by 1,2 order by iso_country, gps_cnt desc\n",
    "airports.groupby(['iso_country','type'])['gps_code'].nunique().reset_index(name='gps_cnt').sort_values(['iso_country','gps_cnt'],ascending=[True, False])"
   ]
  },
  {
   "cell_type": "code",
   "execution_count": 102,
   "id": "317649c9-a677-4a21-bfc8-14528e5a93a5",
   "metadata": {},
   "outputs": [
    {
     "data": {
      "text/html": [
       "<div>\n",
       "<style scoped>\n",
       "    .dataframe tbody tr th:only-of-type {\n",
       "        vertical-align: middle;\n",
       "    }\n",
       "\n",
       "    .dataframe tbody tr th {\n",
       "        vertical-align: top;\n",
       "    }\n",
       "\n",
       "    .dataframe thead th {\n",
       "        text-align: right;\n",
       "    }\n",
       "</style>\n",
       "<table border=\"1\" class=\"dataframe\">\n",
       "  <thead>\n",
       "    <tr style=\"text-align: right;\">\n",
       "      <th></th>\n",
       "      <th>type</th>\n",
       "      <th>cnt</th>\n",
       "    </tr>\n",
       "  </thead>\n",
       "  <tbody>\n",
       "    <tr>\n",
       "      <th>4</th>\n",
       "      <td>medium_airport</td>\n",
       "      <td>4745</td>\n",
       "    </tr>\n",
       "    <tr>\n",
       "      <th>1</th>\n",
       "      <td>closed</td>\n",
       "      <td>9394</td>\n",
       "    </tr>\n",
       "    <tr>\n",
       "      <th>2</th>\n",
       "      <td>heliport</td>\n",
       "      <td>18496</td>\n",
       "    </tr>\n",
       "    <tr>\n",
       "      <th>6</th>\n",
       "      <td>small_airport</td>\n",
       "      <td>38850</td>\n",
       "    </tr>\n",
       "  </tbody>\n",
       "</table>\n",
       "</div>"
      ],
      "text/plain": [
       "             type    cnt\n",
       "4  medium_airport   4745\n",
       "1          closed   9394\n",
       "2        heliport  18496\n",
       "6   small_airport  38850"
      ]
     },
     "execution_count": 102,
     "metadata": {},
     "output_type": "execute_result"
    }
   ],
   "source": [
    "# select type, count(*) as cnt from airports group by 1 having cnt > 3000\n",
    "airports.groupby('type').size().reset_index(name='cnt').query('cnt>3000').sort_values('cnt')"
   ]
  },
  {
   "cell_type": "code",
   "execution_count": 202,
   "id": "80712338-123d-4850-852c-0aaff6eda12f",
   "metadata": {},
   "outputs": [
    {
     "data": {
      "text/html": [
       "<div>\n",
       "<style scoped>\n",
       "    .dataframe tbody tr th:only-of-type {\n",
       "        vertical-align: middle;\n",
       "    }\n",
       "\n",
       "    .dataframe tbody tr th {\n",
       "        vertical-align: top;\n",
       "    }\n",
       "\n",
       "    .dataframe thead th {\n",
       "        text-align: right;\n",
       "    }\n",
       "</style>\n",
       "<table border=\"1\" class=\"dataframe\">\n",
       "  <thead>\n",
       "    <tr style=\"text-align: right;\">\n",
       "      <th></th>\n",
       "      <th>type</th>\n",
       "      <th>name</th>\n",
       "    </tr>\n",
       "  </thead>\n",
       "  <tbody>\n",
       "    <tr>\n",
       "      <th>4</th>\n",
       "      <td>medium_airport</td>\n",
       "      <td>4734</td>\n",
       "    </tr>\n",
       "    <tr>\n",
       "      <th>1</th>\n",
       "      <td>closed</td>\n",
       "      <td>9226</td>\n",
       "    </tr>\n",
       "    <tr>\n",
       "      <th>2</th>\n",
       "      <td>heliport</td>\n",
       "      <td>17933</td>\n",
       "    </tr>\n",
       "    <tr>\n",
       "      <th>6</th>\n",
       "      <td>small_airport</td>\n",
       "      <td>36529</td>\n",
       "    </tr>\n",
       "  </tbody>\n",
       "</table>\n",
       "</div>"
      ],
      "text/plain": [
       "             type   name\n",
       "4  medium_airport   4734\n",
       "1          closed   9226\n",
       "2        heliport  17933\n",
       "6   small_airport  36529"
      ]
     },
     "execution_count": 202,
     "metadata": {},
     "output_type": "execute_result"
    }
   ],
   "source": [
    "# select type, count(distinct name) as name from airports group by 1 having name > 3000\n",
    "airports.groupby('type')['name'].nunique().reset_index().query('name>3000').sort_values('name')"
   ]
  },
  {
   "cell_type": "code",
   "execution_count": 138,
   "id": "82b0340b-dc0d-4223-88e2-bcb35475739c",
   "metadata": {},
   "outputs": [
    {
     "data": {
      "text/html": [
       "<div>\n",
       "<style scoped>\n",
       "    .dataframe tbody tr th:only-of-type {\n",
       "        vertical-align: middle;\n",
       "    }\n",
       "\n",
       "    .dataframe tbody tr th {\n",
       "        vertical-align: top;\n",
       "    }\n",
       "\n",
       "    .dataframe thead th {\n",
       "        text-align: right;\n",
       "    }\n",
       "</style>\n",
       "<table border=\"1\" class=\"dataframe\">\n",
       "  <thead>\n",
       "    <tr style=\"text-align: right;\">\n",
       "      <th></th>\n",
       "      <th>id</th>\n",
       "      <th>length_ft</th>\n",
       "    </tr>\n",
       "  </thead>\n",
       "  <tbody>\n",
       "    <tr>\n",
       "      <th>42881</th>\n",
       "      <td>259295</td>\n",
       "      <td>0.0</td>\n",
       "    </tr>\n",
       "    <tr>\n",
       "      <th>25452</th>\n",
       "      <td>260341</td>\n",
       "      <td>2.0</td>\n",
       "    </tr>\n",
       "    <tr>\n",
       "      <th>18877</th>\n",
       "      <td>267780</td>\n",
       "      <td>4.0</td>\n",
       "    </tr>\n",
       "    <tr>\n",
       "      <th>2689</th>\n",
       "      <td>265561</td>\n",
       "      <td>8.0</td>\n",
       "    </tr>\n",
       "    <tr>\n",
       "      <th>642</th>\n",
       "      <td>265154</td>\n",
       "      <td>10.0</td>\n",
       "    </tr>\n",
       "  </tbody>\n",
       "</table>\n",
       "</div>"
      ],
      "text/plain": [
       "           id  length_ft\n",
       "42881  259295        0.0\n",
       "25452  260341        2.0\n",
       "18877  267780        4.0\n",
       "2689   265561        8.0\n",
       "642    265154       10.0"
      ]
     },
     "execution_count": 138,
     "metadata": {},
     "output_type": "execute_result"
    }
   ],
   "source": [
    "#select id, length_ft from runways order by length_ft limit 5 offset 5\n",
    "#runways.sort_values('length_ft').reset_index().loc[5:9][['id','length_ft']]\n",
    "runways.nsmallest(10,columns='length_ft')[['id','length_ft']].tail(5)"
   ]
  },
  {
   "cell_type": "code",
   "execution_count": 154,
   "id": "dae987d9-14ac-487b-9aff-eb37cd8d3970",
   "metadata": {},
   "outputs": [
    {
     "data": {
      "text/html": [
       "<div>\n",
       "<style scoped>\n",
       "    .dataframe tbody tr th:only-of-type {\n",
       "        vertical-align: middle;\n",
       "    }\n",
       "\n",
       "    .dataframe tbody tr th {\n",
       "        vertical-align: top;\n",
       "    }\n",
       "\n",
       "    .dataframe thead th {\n",
       "        text-align: right;\n",
       "    }\n",
       "</style>\n",
       "<table border=\"1\" class=\"dataframe\">\n",
       "  <thead>\n",
       "    <tr style=\"text-align: right;\">\n",
       "      <th></th>\n",
       "      <th>index</th>\n",
       "      <th>min_lf</th>\n",
       "      <th>max_lf</th>\n",
       "      <th>mean_lf</th>\n",
       "      <th>median_lf</th>\n",
       "    </tr>\n",
       "  </thead>\n",
       "  <tbody>\n",
       "    <tr>\n",
       "      <th>0</th>\n",
       "      <td>length_ft</td>\n",
       "      <td>0.0</td>\n",
       "      <td>30000.0</td>\n",
       "      <td>3246.5</td>\n",
       "      <td>2700.0</td>\n",
       "    </tr>\n",
       "  </tbody>\n",
       "</table>\n",
       "</div>"
      ],
      "text/plain": [
       "       index  min_lf   max_lf  mean_lf  median_lf\n",
       "0  length_ft     0.0  30000.0   3246.5     2700.0"
      ]
     },
     "execution_count": 154,
     "metadata": {},
     "output_type": "execute_result"
    }
   ],
   "source": [
    "#select min(length_ft) min_lf, max(length_ft) max_lf, mean(length_ft) mean_lf, median(length_ft) median_lf from runways\n",
    "runways.agg({'length_ft':['min','max','mean','median']}).round(1).T.rename(columns = {'min': 'min_lf', 'max': 'max_lf','mean': 'mean_lf', 'median': 'median_lf'}).reset_index()"
   ]
  },
  {
   "cell_type": "code",
   "execution_count": 163,
   "id": "ba3e4472-bc13-4310-9e5a-c66a55635e64",
   "metadata": {},
   "outputs": [
    {
     "data": {
      "text/html": [
       "<div>\n",
       "<style scoped>\n",
       "    .dataframe tbody tr th:only-of-type {\n",
       "        vertical-align: middle;\n",
       "    }\n",
       "\n",
       "    .dataframe tbody tr th {\n",
       "        vertical-align: top;\n",
       "    }\n",
       "\n",
       "    .dataframe thead th {\n",
       "        text-align: right;\n",
       "    }\n",
       "</style>\n",
       "<table border=\"1\" class=\"dataframe\">\n",
       "  <thead>\n",
       "    <tr style=\"text-align: right;\">\n",
       "      <th></th>\n",
       "      <th>airport_ident</th>\n",
       "      <th>type</th>\n",
       "      <th>description</th>\n",
       "      <th>frequency_mhz</th>\n",
       "    </tr>\n",
       "  </thead>\n",
       "  <tbody>\n",
       "    <tr>\n",
       "      <th>0</th>\n",
       "      <td>KLAX</td>\n",
       "      <td>APP</td>\n",
       "      <td>SOCAL APP</td>\n",
       "      <td>36.07</td>\n",
       "    </tr>\n",
       "    <tr>\n",
       "      <th>1</th>\n",
       "      <td>KLAX</td>\n",
       "      <td>APP</td>\n",
       "      <td>SOCAL APP</td>\n",
       "      <td>124.30</td>\n",
       "    </tr>\n",
       "    <tr>\n",
       "      <th>2</th>\n",
       "      <td>KLAX</td>\n",
       "      <td>ATIS</td>\n",
       "      <td>ATIS</td>\n",
       "      <td>133.80</td>\n",
       "    </tr>\n",
       "    <tr>\n",
       "      <th>3</th>\n",
       "      <td>KLAX</td>\n",
       "      <td>CLD</td>\n",
       "      <td>CLNC DEL</td>\n",
       "      <td>121.40</td>\n",
       "    </tr>\n",
       "    <tr>\n",
       "      <th>4</th>\n",
       "      <td>KLAX</td>\n",
       "      <td>DEP</td>\n",
       "      <td>SOCAL DEP</td>\n",
       "      <td>124.30</td>\n",
       "    </tr>\n",
       "    <tr>\n",
       "      <th>5</th>\n",
       "      <td>KLAX</td>\n",
       "      <td>GND</td>\n",
       "      <td>GND</td>\n",
       "      <td>121.65</td>\n",
       "    </tr>\n",
       "    <tr>\n",
       "      <th>6</th>\n",
       "      <td>KLAX</td>\n",
       "      <td>MISC</td>\n",
       "      <td>CG</td>\n",
       "      <td>34.50</td>\n",
       "    </tr>\n",
       "    <tr>\n",
       "      <th>7</th>\n",
       "      <td>KLAX</td>\n",
       "      <td>MISC</td>\n",
       "      <td>CG</td>\n",
       "      <td>898.40</td>\n",
       "    </tr>\n",
       "    <tr>\n",
       "      <th>8</th>\n",
       "      <td>KLAX</td>\n",
       "      <td>OPS</td>\n",
       "      <td>AF</td>\n",
       "      <td>37.22</td>\n",
       "    </tr>\n",
       "    <tr>\n",
       "      <th>9</th>\n",
       "      <td>KLAX</td>\n",
       "      <td>TWR</td>\n",
       "      <td>TWR</td>\n",
       "      <td>119.80</td>\n",
       "    </tr>\n",
       "    <tr>\n",
       "      <th>10</th>\n",
       "      <td>KLAX</td>\n",
       "      <td>UNIC</td>\n",
       "      <td>UNICOM</td>\n",
       "      <td>122.95</td>\n",
       "    </tr>\n",
       "  </tbody>\n",
       "</table>\n",
       "</div>"
      ],
      "text/plain": [
       "   airport_ident  type description  frequency_mhz\n",
       "0           KLAX   APP   SOCAL APP          36.07\n",
       "1           KLAX   APP   SOCAL APP         124.30\n",
       "2           KLAX  ATIS        ATIS         133.80\n",
       "3           KLAX   CLD    CLNC DEL         121.40\n",
       "4           KLAX   DEP   SOCAL DEP         124.30\n",
       "5           KLAX   GND         GND         121.65\n",
       "6           KLAX  MISC          CG          34.50\n",
       "7           KLAX  MISC          CG         898.40\n",
       "8           KLAX   OPS          AF          37.22\n",
       "9           KLAX   TWR         TWR         119.80\n",
       "10          KLAX  UNIC      UNICOM         122.95"
      ]
     },
     "execution_count": 163,
     "metadata": {},
     "output_type": "execute_result"
    }
   ],
   "source": [
    "# select airport_ident, type, description, frequency_mhz from airport_freq af join airports a on af.airport_ref = a.id where a.ident = 'KLAX'\n",
    "airport_freq.merge(airports[airports['ident']=='KLAX'],how='inner',left_on = 'airport_ref', right_on = 'id')[['airport_ident','type_x','description','frequency_mhz']].rename(columns = {'type_x':'type'})"
   ]
  },
  {
   "cell_type": "code",
   "execution_count": 172,
   "id": "41660e79-587c-48b5-b12f-0cb03c1f692b",
   "metadata": {},
   "outputs": [
    {
     "data": {
      "text/html": [
       "<div>\n",
       "<style scoped>\n",
       "    .dataframe tbody tr th:only-of-type {\n",
       "        vertical-align: middle;\n",
       "    }\n",
       "\n",
       "    .dataframe tbody tr th {\n",
       "        vertical-align: top;\n",
       "    }\n",
       "\n",
       "    .dataframe thead th {\n",
       "        text-align: right;\n",
       "    }\n",
       "</style>\n",
       "<table border=\"1\" class=\"dataframe\">\n",
       "  <thead>\n",
       "    <tr style=\"text-align: right;\">\n",
       "      <th></th>\n",
       "      <th>name</th>\n",
       "      <th>municipality</th>\n",
       "    </tr>\n",
       "  </thead>\n",
       "  <tbody>\n",
       "    <tr>\n",
       "      <th>35701</th>\n",
       "      <td>Los Angeles International Airport</td>\n",
       "      <td>Los Angeles</td>\n",
       "    </tr>\n",
       "    <tr>\n",
       "      <th>35727</th>\n",
       "      <td>Long Beach Airport (Daugherty Field)</td>\n",
       "      <td>Long Beach</td>\n",
       "    </tr>\n",
       "  </tbody>\n",
       "</table>\n",
       "</div>"
      ],
      "text/plain": [
       "                                       name municipality\n",
       "35701     Los Angeles International Airport  Los Angeles\n",
       "35727  Long Beach Airport (Daugherty Field)   Long Beach"
      ]
     },
     "execution_count": 172,
     "metadata": {},
     "output_type": "execute_result"
    }
   ],
   "source": [
    "#union\n",
    "pd.concat([airports[airports['ident']=='KLAX'][['name','municipality']], airports[airports['ident']=='KLGB'][['name','municipality']]]).drop_duplicates()"
   ]
  },
  {
   "cell_type": "code",
   "execution_count": 180,
   "id": "236f204c-659a-48cf-9d13-dbbd4ba01158",
   "metadata": {},
   "outputs": [],
   "source": [
    "airports.loc[airports['ident']=='KLAX','home_link'] = 'feifangu@outlook.com'"
   ]
  },
  {
   "cell_type": "markdown",
   "id": "1b41f7aa-f6e6-4421-bc36-db3c71f5bf89",
   "metadata": {},
   "source": [
    "## Q1: Naive Forecasting\n",
    "<br> Some forecasting methods are extremely simple and surprisingly effective. Naïve forecast is one of them; we simply set all forecasts to be the value of the last observation. Our goal is to develop a naïve forecast for a new metric called \"distance per dollar\" defined as the (distance_to_travel/monetary_cost) in our dataset and measure its accuracy.\n",
    "\n",
    "To develop this forecast,  sum \"distance to travel\"  and \"monetary cost\" values at a monthly level before calculating \"distance per dollar\". This value becomes your actual value for the current month. The next step is to populate the forecasted value for each month. This can be achieved simply by getting the previous month's value in a separate column. Now, we have actual and forecasted values. This is your naïve forecast. Let’s evaluate our model by calculating an error matrix called root mean squared error (RMSE). RMSE is defined as sqrt(mean(square(actual - forecast)). Report out the RMSE rounded to the 2nd decimal spot."
   ]
  },
  {
   "cell_type": "code",
   "execution_count": 2,
   "id": "68719a45-5479-45a8-a9bd-bd82179de963",
   "metadata": {},
   "outputs": [],
   "source": [
    "import numpy as np\n",
    "import pandas as pd\n",
    "\n",
    "uber_request_logs = pd.DataFrame({\"request_id\": [1,2,3],\n",
    "                                  \"request_date\": pd.to_datetime([\"2022-01-09 00:00:00\", \"2022-01-24 00:00:00\", \"2022-02-08 00:00:00\"]),\n",
    "                                  \"request_status\": ['success', 'success', 'fail'],\n",
    "                                  'distance_to_travel': [70.59, 93.36, 51.24],\n",
    "                                  'monetary_cost': [6.56, 22.68, 11.39],\n",
    "                                  'driver_to_client_distance': [14.36, 19.9, 21.32]\n",
    "                                                                })"
   ]
  },
  {
   "cell_type": "code",
   "execution_count": 3,
   "id": "71c68182-c8cc-45fa-81ff-001769c16143",
   "metadata": {},
   "outputs": [
    {
     "data": {
      "text/html": [
       "<div>\n",
       "<style scoped>\n",
       "    .dataframe tbody tr th:only-of-type {\n",
       "        vertical-align: middle;\n",
       "    }\n",
       "\n",
       "    .dataframe tbody tr th {\n",
       "        vertical-align: top;\n",
       "    }\n",
       "\n",
       "    .dataframe thead th {\n",
       "        text-align: right;\n",
       "    }\n",
       "</style>\n",
       "<table border=\"1\" class=\"dataframe\">\n",
       "  <thead>\n",
       "    <tr style=\"text-align: right;\">\n",
       "      <th></th>\n",
       "      <th>request_id</th>\n",
       "      <th>request_date</th>\n",
       "      <th>request_status</th>\n",
       "      <th>distance_to_travel</th>\n",
       "      <th>monetary_cost</th>\n",
       "      <th>driver_to_client_distance</th>\n",
       "    </tr>\n",
       "  </thead>\n",
       "  <tbody>\n",
       "    <tr>\n",
       "      <th>0</th>\n",
       "      <td>1</td>\n",
       "      <td>2022-01-09</td>\n",
       "      <td>success</td>\n",
       "      <td>70.59</td>\n",
       "      <td>6.56</td>\n",
       "      <td>14.36</td>\n",
       "    </tr>\n",
       "    <tr>\n",
       "      <th>1</th>\n",
       "      <td>2</td>\n",
       "      <td>2022-01-24</td>\n",
       "      <td>success</td>\n",
       "      <td>93.36</td>\n",
       "      <td>22.68</td>\n",
       "      <td>19.90</td>\n",
       "    </tr>\n",
       "    <tr>\n",
       "      <th>2</th>\n",
       "      <td>3</td>\n",
       "      <td>2022-02-08</td>\n",
       "      <td>fail</td>\n",
       "      <td>51.24</td>\n",
       "      <td>11.39</td>\n",
       "      <td>21.32</td>\n",
       "    </tr>\n",
       "  </tbody>\n",
       "</table>\n",
       "</div>"
      ],
      "text/plain": [
       "   request_id request_date request_status  distance_to_travel  monetary_cost  \\\n",
       "0           1   2022-01-09        success               70.59           6.56   \n",
       "1           2   2022-01-24        success               93.36          22.68   \n",
       "2           3   2022-02-08           fail               51.24          11.39   \n",
       "\n",
       "   driver_to_client_distance  \n",
       "0                      14.36  \n",
       "1                      19.90  \n",
       "2                      21.32  "
      ]
     },
     "execution_count": 3,
     "metadata": {},
     "output_type": "execute_result"
    }
   ],
   "source": [
    "uber_request_logs"
   ]
  },
  {
   "cell_type": "code",
   "execution_count": 4,
   "id": "496674a2-7fed-487d-ab20-f68cae029262",
   "metadata": {},
   "outputs": [
    {
     "name": "stdout",
     "output_type": "stream",
     "text": [
      "<class 'pandas.core.frame.DataFrame'>\n",
      "RangeIndex: 3 entries, 0 to 2\n",
      "Data columns (total 6 columns):\n",
      " #   Column                     Non-Null Count  Dtype         \n",
      "---  ------                     --------------  -----         \n",
      " 0   request_id                 3 non-null      int64         \n",
      " 1   request_date               3 non-null      datetime64[ns]\n",
      " 2   request_status             3 non-null      object        \n",
      " 3   distance_to_travel         3 non-null      float64       \n",
      " 4   monetary_cost              3 non-null      float64       \n",
      " 5   driver_to_client_distance  3 non-null      float64       \n",
      "dtypes: datetime64[ns](1), float64(3), int64(1), object(1)\n",
      "memory usage: 272.0+ bytes\n"
     ]
    }
   ],
   "source": [
    "uber_request_logs.info()"
   ]
  },
  {
   "cell_type": "code",
   "execution_count": 5,
   "id": "dff9569d-d850-46f7-ba68-26446c4e8df6",
   "metadata": {},
   "outputs": [],
   "source": [
    "uber_request_logs['year_month'] = uber_request_logs['request_date'].dt.to_period('M')"
   ]
  },
  {
   "cell_type": "code",
   "execution_count": 6,
   "id": "4407fa2d-f96d-4cbf-9528-0fb376ea2593",
   "metadata": {},
   "outputs": [
    {
     "data": {
      "text/html": [
       "<div>\n",
       "<style scoped>\n",
       "    .dataframe tbody tr th:only-of-type {\n",
       "        vertical-align: middle;\n",
       "    }\n",
       "\n",
       "    .dataframe tbody tr th {\n",
       "        vertical-align: top;\n",
       "    }\n",
       "\n",
       "    .dataframe thead th {\n",
       "        text-align: right;\n",
       "    }\n",
       "</style>\n",
       "<table border=\"1\" class=\"dataframe\">\n",
       "  <thead>\n",
       "    <tr style=\"text-align: right;\">\n",
       "      <th></th>\n",
       "      <th>request_id</th>\n",
       "      <th>request_date</th>\n",
       "      <th>request_status</th>\n",
       "      <th>distance_to_travel</th>\n",
       "      <th>monetary_cost</th>\n",
       "      <th>driver_to_client_distance</th>\n",
       "      <th>year_month</th>\n",
       "    </tr>\n",
       "  </thead>\n",
       "  <tbody>\n",
       "    <tr>\n",
       "      <th>0</th>\n",
       "      <td>1</td>\n",
       "      <td>2022-01-09</td>\n",
       "      <td>success</td>\n",
       "      <td>70.59</td>\n",
       "      <td>6.56</td>\n",
       "      <td>14.36</td>\n",
       "      <td>2022-01</td>\n",
       "    </tr>\n",
       "    <tr>\n",
       "      <th>1</th>\n",
       "      <td>2</td>\n",
       "      <td>2022-01-24</td>\n",
       "      <td>success</td>\n",
       "      <td>93.36</td>\n",
       "      <td>22.68</td>\n",
       "      <td>19.90</td>\n",
       "      <td>2022-01</td>\n",
       "    </tr>\n",
       "    <tr>\n",
       "      <th>2</th>\n",
       "      <td>3</td>\n",
       "      <td>2022-02-08</td>\n",
       "      <td>fail</td>\n",
       "      <td>51.24</td>\n",
       "      <td>11.39</td>\n",
       "      <td>21.32</td>\n",
       "      <td>2022-02</td>\n",
       "    </tr>\n",
       "  </tbody>\n",
       "</table>\n",
       "</div>"
      ],
      "text/plain": [
       "   request_id request_date request_status  distance_to_travel  monetary_cost  \\\n",
       "0           1   2022-01-09        success               70.59           6.56   \n",
       "1           2   2022-01-24        success               93.36          22.68   \n",
       "2           3   2022-02-08           fail               51.24          11.39   \n",
       "\n",
       "   driver_to_client_distance year_month  \n",
       "0                      14.36    2022-01  \n",
       "1                      19.90    2022-01  \n",
       "2                      21.32    2022-02  "
      ]
     },
     "execution_count": 6,
     "metadata": {},
     "output_type": "execute_result"
    }
   ],
   "source": [
    "uber_request_logs"
   ]
  },
  {
   "cell_type": "code",
   "execution_count": 12,
   "id": "438bf791-2995-4622-a58e-9a13bd1f4824",
   "metadata": {},
   "outputs": [],
   "source": [
    "#avg_monthly_dist_per_dollar = uber_request_logs.groupby('year_month')[['distance_to_travel','monetary_cost']].sum().reset_index()\n",
    "avg_monthly_dist_per_dollar = uber_request_logs.groupby('year_month').agg({'distance_to_travel':sum,'monetary_cost':'sum'}).reset_index()"
   ]
  },
  {
   "cell_type": "code",
   "execution_count": 13,
   "id": "961d6ac7-e1aa-410e-8a3c-3312c949b6b5",
   "metadata": {},
   "outputs": [
    {
     "data": {
      "text/html": [
       "<div>\n",
       "<style scoped>\n",
       "    .dataframe tbody tr th:only-of-type {\n",
       "        vertical-align: middle;\n",
       "    }\n",
       "\n",
       "    .dataframe tbody tr th {\n",
       "        vertical-align: top;\n",
       "    }\n",
       "\n",
       "    .dataframe thead th {\n",
       "        text-align: right;\n",
       "    }\n",
       "</style>\n",
       "<table border=\"1\" class=\"dataframe\">\n",
       "  <thead>\n",
       "    <tr style=\"text-align: right;\">\n",
       "      <th></th>\n",
       "      <th>year_month</th>\n",
       "      <th>distance_to_travel</th>\n",
       "      <th>monetary_cost</th>\n",
       "    </tr>\n",
       "  </thead>\n",
       "  <tbody>\n",
       "    <tr>\n",
       "      <th>0</th>\n",
       "      <td>2022-01</td>\n",
       "      <td>163.95</td>\n",
       "      <td>29.24</td>\n",
       "    </tr>\n",
       "    <tr>\n",
       "      <th>1</th>\n",
       "      <td>2022-02</td>\n",
       "      <td>51.24</td>\n",
       "      <td>11.39</td>\n",
       "    </tr>\n",
       "  </tbody>\n",
       "</table>\n",
       "</div>"
      ],
      "text/plain": [
       "  year_month  distance_to_travel  monetary_cost\n",
       "0    2022-01              163.95          29.24\n",
       "1    2022-02               51.24          11.39"
      ]
     },
     "execution_count": 13,
     "metadata": {},
     "output_type": "execute_result"
    }
   ],
   "source": [
    "avg_monthly_dist_per_dollar"
   ]
  },
  {
   "cell_type": "code",
   "execution_count": 117,
   "id": "7dbb58bb-94c9-42a6-b034-ea7de96dca86",
   "metadata": {},
   "outputs": [],
   "source": [
    "avg_monthly_dist_per_dollar['monthly_dist_per_dollar'] = avg_monthly_dist_per_dollar['distance_to_travel'] / avg_monthly_dist_per_dollar['monetary_cost']"
   ]
  },
  {
   "cell_type": "code",
   "execution_count": 118,
   "id": "ca33f7b2-7577-44fc-80bb-11654096eac4",
   "metadata": {},
   "outputs": [],
   "source": [
    "avg_monthly_dist_per_dollar['naive_forecast'] =  avg_monthly_dist_per_dollar['monthly_dist_per_dollar'].shift(1)"
   ]
  },
  {
   "cell_type": "code",
   "execution_count": 121,
   "id": "2b851171-215c-40a0-8f4e-d34a1732a6a6",
   "metadata": {},
   "outputs": [],
   "source": [
    "df = avg_monthly_dist_per_dollar.loc[1:,]"
   ]
  },
  {
   "cell_type": "code",
   "execution_count": 122,
   "id": "a97a4e02-0563-45aa-b77f-029e8197f32e",
   "metadata": {},
   "outputs": [
    {
     "data": {
      "text/plain": [
       "1.11"
      ]
     },
     "execution_count": 122,
     "metadata": {},
     "output_type": "execute_result"
    }
   ],
   "source": [
    "round(np.sqrt(np.mean(np.square(df['monthly_dist_per_dollar'] - avg_monthly_dist_per_dollar['naive_forecast']))),2)"
   ]
  },
  {
   "cell_type": "markdown",
   "id": "59ff0f3f-9a00-4fb7-87be-70ea5f720cab",
   "metadata": {},
   "source": [
    "## Q2: Distance Per Dollar\n",
    "<br>You’re given a dataset of uber rides with the traveling distance (‘distance_to_travel’) and cost (‘monetary_cost’) for each ride. For each date, find the difference between the distance-per-dollar for that date and the average distance-per-dollar for that year-month. Distance-per-dollar is defined as the distance traveled divided by the cost of the ride.\n",
    "\n",
    "The output should include the year-month (YYYY-MM) and the absolute average difference in distance-per-dollar (Absolute value to be rounded to the 2nd decimal).\n",
    "You should also count both success and failed request_status as the distance and cost values are populated for all ride requests. Also, assume that all dates are unique in the dataset. Order your results by earliest request date first."
   ]
  },
  {
   "cell_type": "code",
   "execution_count": 124,
   "id": "52afea5b-640f-4bc7-aaac-fbd314324b42",
   "metadata": {},
   "outputs": [],
   "source": [
    "uber_request_logs = pd.DataFrame({\"request_id\": [1,2,3,4,5],\n",
    "                                  \"request_date\": pd.to_datetime([\"2022-01-09 00:00:00\", \"2022-01-24 00:00:00\", \n",
    "                                                                  \"2022-02-08 00:00:00\", \"2022-02-23 00:00:00\", \"2022-03-09 00:00:00\"]),\n",
    "                                  \"request_status\": ['success', 'success', 'fail', 'success', 'success'],\n",
    "                                  'distance_to_travel': [70.59, 93.36, 51.24, 61.58, 25.04],\n",
    "                                  'monetary_cost': [6.56, 22.68, 11.39, 8.04, 7.19],\n",
    "                                  'driver_to_client_distance': [14.36, 19.9, 21.32, 44.26, 1.74]\n",
    "                                                                })"
   ]
  },
  {
   "cell_type": "code",
   "execution_count": 127,
   "id": "37f52706-5cc8-4601-841b-cfef84282b74",
   "metadata": {},
   "outputs": [],
   "source": [
    "uber_request_logs['distance_per_dollar'] = uber_request_logs['distance_to_travel'] / uber_request_logs['monetary_cost']"
   ]
  },
  {
   "cell_type": "code",
   "execution_count": 128,
   "id": "c5eb1b92-a129-4646-9e86-70651a11efa2",
   "metadata": {},
   "outputs": [],
   "source": [
    "uber_request_logs['year_month'] = uber_request_logs['request_date'].dt.to_period('M')"
   ]
  },
  {
   "cell_type": "code",
   "execution_count": 131,
   "id": "ebec8e5c-689b-43e3-9450-472e2c03c7e9",
   "metadata": {},
   "outputs": [],
   "source": [
    "uber_request_logs['monthly_distance_per_dollar'] = uber_request_logs.groupby('year_month')['distance_to_travel'].transform('sum')/uber_request_logs.groupby('year_month')['monetary_cost'].transform('sum')"
   ]
  },
  {
   "cell_type": "code",
   "execution_count": 132,
   "id": "4774587c-7ff9-45d5-ab54-04c361e5fff2",
   "metadata": {},
   "outputs": [],
   "source": [
    "uber_request_logs['diff'] = np.abs(uber_request_logs['distance_per_dollar'] - uber_request_logs['monthly_distance_per_dollar'])"
   ]
  },
  {
   "cell_type": "code",
   "execution_count": 137,
   "id": "7f5f78a4-3fb1-480d-8b8c-c8a34a3d7d1c",
   "metadata": {},
   "outputs": [
    {
     "data": {
      "text/html": [
       "<div>\n",
       "<style scoped>\n",
       "    .dataframe tbody tr th:only-of-type {\n",
       "        vertical-align: middle;\n",
       "    }\n",
       "\n",
       "    .dataframe tbody tr th {\n",
       "        vertical-align: top;\n",
       "    }\n",
       "\n",
       "    .dataframe thead th {\n",
       "        text-align: right;\n",
       "    }\n",
       "</style>\n",
       "<table border=\"1\" class=\"dataframe\">\n",
       "  <thead>\n",
       "    <tr style=\"text-align: right;\">\n",
       "      <th></th>\n",
       "      <th>year_month</th>\n",
       "      <th>diff</th>\n",
       "    </tr>\n",
       "  </thead>\n",
       "  <tbody>\n",
       "    <tr>\n",
       "      <th>0</th>\n",
       "      <td>2022-01</td>\n",
       "      <td>3.32</td>\n",
       "    </tr>\n",
       "    <tr>\n",
       "      <th>1</th>\n",
       "      <td>2022-02</td>\n",
       "      <td>1.58</td>\n",
       "    </tr>\n",
       "    <tr>\n",
       "      <th>2</th>\n",
       "      <td>2022-03</td>\n",
       "      <td>0.00</td>\n",
       "    </tr>\n",
       "  </tbody>\n",
       "</table>\n",
       "</div>"
      ],
      "text/plain": [
       "  year_month  diff\n",
       "0    2022-01  3.32\n",
       "1    2022-02  1.58\n",
       "2    2022-03  0.00"
      ]
     },
     "execution_count": 137,
     "metadata": {},
     "output_type": "execute_result"
    }
   ],
   "source": [
    "uber_request_logs.groupby('year_month')['diff'].mean().round(2).reset_index().sort_values(by=['year_month'])"
   ]
  },
  {
   "cell_type": "markdown",
   "id": "f3b8f61d-cbac-49c1-a37d-84cfbcf35172",
   "metadata": {},
   "source": [
    "## Q3: Highest Total Miles\n",
    "<br> You’re given a table of Uber rides that contains the mileage and the purpose for the business expense.  You’re asked to find business purposes that generate the most miles driven for passengers that use Uber for their business transportation. Find the top 3 business purpose categories by total mileage."
   ]
  },
  {
   "cell_type": "code",
   "execution_count": 139,
   "id": "273010a4-b6e0-4e29-b0a3-b2f1bf2af071",
   "metadata": {},
   "outputs": [],
   "source": [
    "my_uber_drives = pd.DataFrame({'start_date': pd.to_datetime([\"2016-01-01 21:11:00\", \"2016-01-02 01:25:00\", \n",
    "                               \"2016-01-02 20:25:00\", \"2016-01-05 17:31:00\", \"2016-01-06 14:42:00\"]),\n",
    "                               'end_date': pd.to_datetime([\"2016-01-01 21:17:00\", \"2016-01-02 01:37:00\", \n",
    "                               \"2016-01-02 20:38:00\", \"2016-01-05 17:45:00\", \"2016-01-06 15:49:00\"]),\n",
    "                               'category': ['Business', 'Business', 'Business', 'Business', 'Business'],\n",
    "                               'start': ['Fort Pierce','Fort Pierce','Fort Pierce','Fort Pierce','Fort Pierce'],\n",
    "                               'stop': ['Fort Pierce','Fort Pierce','Fort Pierce','Fort Pierce','West Palm Beach'],\n",
    "                               'miles': [5.1, 5, 4.8, 4.7, 63.7],\n",
    "                               'purpose':['a','b','c','d','a']\n",
    "                                                                })"
   ]
  },
  {
   "cell_type": "code",
   "execution_count": 145,
   "id": "23494e61-e0a2-46c9-9861-d1f4ac1a1ab3",
   "metadata": {},
   "outputs": [
    {
     "data": {
      "text/html": [
       "<div>\n",
       "<style scoped>\n",
       "    .dataframe tbody tr th:only-of-type {\n",
       "        vertical-align: middle;\n",
       "    }\n",
       "\n",
       "    .dataframe tbody tr th {\n",
       "        vertical-align: top;\n",
       "    }\n",
       "\n",
       "    .dataframe thead th {\n",
       "        text-align: right;\n",
       "    }\n",
       "</style>\n",
       "<table border=\"1\" class=\"dataframe\">\n",
       "  <thead>\n",
       "    <tr style=\"text-align: right;\">\n",
       "      <th></th>\n",
       "      <th>purpose</th>\n",
       "      <th>miles</th>\n",
       "    </tr>\n",
       "  </thead>\n",
       "  <tbody>\n",
       "    <tr>\n",
       "      <th>1</th>\n",
       "      <td>b</td>\n",
       "      <td>68.7</td>\n",
       "    </tr>\n",
       "    <tr>\n",
       "      <th>0</th>\n",
       "      <td>a</td>\n",
       "      <td>9.8</td>\n",
       "    </tr>\n",
       "    <tr>\n",
       "      <th>2</th>\n",
       "      <td>c</td>\n",
       "      <td>4.8</td>\n",
       "    </tr>\n",
       "  </tbody>\n",
       "</table>\n",
       "</div>"
      ],
      "text/plain": [
       "  purpose  miles\n",
       "1       b   68.7\n",
       "0       a    9.8\n",
       "2       c    4.8"
      ]
     },
     "execution_count": 145,
     "metadata": {},
     "output_type": "execute_result"
    }
   ],
   "source": [
    "my_uber_drives[my_uber_drives['category']=='Business'].groupby('purpose')['miles'].sum().reset_index().sort_values(by=['miles'],ascending=False).head(3)\n",
    "# or use .rank(method='min',ascending=False), df['rank']<=3"
   ]
  },
  {
   "cell_type": "code",
   "execution_count": 230,
   "id": "124cc5cf-122d-4b8f-ab54-4e16c5af7b44",
   "metadata": {},
   "outputs": [],
   "source": [
    "df = pd.DataFrame({'A': 'a a b'.split(),\n",
    "                   'B': [1,2,3],\n",
    "                   'C': [4,6,5]})"
   ]
  },
  {
   "cell_type": "code",
   "execution_count": 239,
   "id": "fa7cc07d-b360-4d8b-ba53-e915a457f79b",
   "metadata": {},
   "outputs": [
    {
     "data": {
      "text/html": [
       "<div>\n",
       "<style scoped>\n",
       "    .dataframe tbody tr th:only-of-type {\n",
       "        vertical-align: middle;\n",
       "    }\n",
       "\n",
       "    .dataframe tbody tr th {\n",
       "        vertical-align: top;\n",
       "    }\n",
       "\n",
       "    .dataframe thead th {\n",
       "        text-align: right;\n",
       "    }\n",
       "</style>\n",
       "<table border=\"1\" class=\"dataframe\">\n",
       "  <thead>\n",
       "    <tr style=\"text-align: right;\">\n",
       "      <th></th>\n",
       "      <th>A</th>\n",
       "      <th>B</th>\n",
       "      <th>C</th>\n",
       "    </tr>\n",
       "  </thead>\n",
       "  <tbody>\n",
       "    <tr>\n",
       "      <th>0</th>\n",
       "      <td>a</td>\n",
       "      <td>1</td>\n",
       "      <td>4</td>\n",
       "    </tr>\n",
       "    <tr>\n",
       "      <th>1</th>\n",
       "      <td>a</td>\n",
       "      <td>2</td>\n",
       "      <td>6</td>\n",
       "    </tr>\n",
       "    <tr>\n",
       "      <th>2</th>\n",
       "      <td>b</td>\n",
       "      <td>3</td>\n",
       "      <td>5</td>\n",
       "    </tr>\n",
       "  </tbody>\n",
       "</table>\n",
       "</div>"
      ],
      "text/plain": [
       "   A  B  C\n",
       "0  a  1  4\n",
       "1  a  2  6\n",
       "2  b  3  5"
      ]
     },
     "execution_count": 239,
     "metadata": {},
     "output_type": "execute_result"
    }
   ],
   "source": [
    "df"
   ]
  },
  {
   "cell_type": "code",
   "execution_count": 236,
   "id": "40b4c1fa-b222-4380-baa6-57101530b717",
   "metadata": {},
   "outputs": [
    {
     "data": {
      "text/html": [
       "<div>\n",
       "<style scoped>\n",
       "    .dataframe tbody tr th:only-of-type {\n",
       "        vertical-align: middle;\n",
       "    }\n",
       "\n",
       "    .dataframe tbody tr th {\n",
       "        vertical-align: top;\n",
       "    }\n",
       "\n",
       "    .dataframe thead th {\n",
       "        text-align: right;\n",
       "    }\n",
       "</style>\n",
       "<table border=\"1\" class=\"dataframe\">\n",
       "  <thead>\n",
       "    <tr style=\"text-align: right;\">\n",
       "      <th></th>\n",
       "      <th>B</th>\n",
       "      <th>C</th>\n",
       "    </tr>\n",
       "  </thead>\n",
       "  <tbody>\n",
       "    <tr>\n",
       "      <th>0</th>\n",
       "      <td>3</td>\n",
       "      <td>10</td>\n",
       "    </tr>\n",
       "    <tr>\n",
       "      <th>1</th>\n",
       "      <td>3</td>\n",
       "      <td>10</td>\n",
       "    </tr>\n",
       "    <tr>\n",
       "      <th>2</th>\n",
       "      <td>3</td>\n",
       "      <td>5</td>\n",
       "    </tr>\n",
       "  </tbody>\n",
       "</table>\n",
       "</div>"
      ],
      "text/plain": [
       "   B   C\n",
       "0  3  10\n",
       "1  3  10\n",
       "2  3   5"
      ]
     },
     "execution_count": 238,
     "metadata": {},
     "output_type": "execute_result"
    }
   ],
   "source": [
    "df.groupby('A')[['B', 'C']].transform(lambda x: x / x.sum())"
   ]
  },
  {
   "cell_type": "code",
   "execution_count": 242,
   "id": "42f71d86-654a-414c-9e75-848ac63ebdf2",
   "metadata": {},
   "outputs": [
    {
     "data": {
      "text/html": [
       "<div>\n",
       "<style scoped>\n",
       "    .dataframe tbody tr th:only-of-type {\n",
       "        vertical-align: middle;\n",
       "    }\n",
       "\n",
       "    .dataframe tbody tr th {\n",
       "        vertical-align: top;\n",
       "    }\n",
       "\n",
       "    .dataframe thead th {\n",
       "        text-align: right;\n",
       "    }\n",
       "</style>\n",
       "<table border=\"1\" class=\"dataframe\">\n",
       "  <thead>\n",
       "    <tr style=\"text-align: right;\">\n",
       "      <th></th>\n",
       "      <th>B</th>\n",
       "      <th>C</th>\n",
       "    </tr>\n",
       "  </thead>\n",
       "  <tbody>\n",
       "    <tr>\n",
       "      <th>0</th>\n",
       "      <td>0.333333</td>\n",
       "      <td>0.4</td>\n",
       "    </tr>\n",
       "    <tr>\n",
       "      <th>1</th>\n",
       "      <td>0.666667</td>\n",
       "      <td>0.6</td>\n",
       "    </tr>\n",
       "    <tr>\n",
       "      <th>2</th>\n",
       "      <td>1.000000</td>\n",
       "      <td>1.0</td>\n",
       "    </tr>\n",
       "  </tbody>\n",
       "</table>\n",
       "</div>"
      ],
      "text/plain": [
       "          B    C\n",
       "0  0.333333  0.4\n",
       "1  0.666667  0.6\n",
       "2  1.000000  1.0"
      ]
     },
     "execution_count": 242,
     "metadata": {},
     "output_type": "execute_result"
    }
   ],
   "source": [
    "df.groupby('A', group_keys=True)[['B', 'C']].apply(lambda x: x / x.sum())"
   ]
  }
 ],
 "metadata": {
  "environment": {
   "kernel": "python3",
   "name": "common-cpu.m109",
   "type": "gcloud",
   "uri": "gcr.io/deeplearning-platform-release/base-cpu:m109"
  },
  "kernelspec": {
   "display_name": "Python 3",
   "language": "python",
   "name": "python3"
  },
  "language_info": {
   "codemirror_mode": {
    "name": "ipython",
    "version": 3
   },
   "file_extension": ".py",
   "mimetype": "text/x-python",
   "name": "python",
   "nbconvert_exporter": "python",
   "pygments_lexer": "ipython3",
   "version": "3.7.12"
  }
 },
 "nbformat": 4,
 "nbformat_minor": 5
}
